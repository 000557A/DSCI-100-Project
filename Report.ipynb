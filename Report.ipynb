{
 "cells": [
  {
   "cell_type": "markdown",
   "id": "2bc34ee1-f933-4e54-aea4-238113f565b0",
   "metadata": {},
   "source": [
    "**Introduction:**\n",
    "\n",
    "Heart disease is a common cause of death in the United States. For every 5 people, 1 will suffer from this condition. Due to the ever-prevalent nature of this disease, we believe it is important to know where one currently stands at the moment. With this project, we aim to predict and classify the severity of heart conditions based upon several variables. With the provided heart disease dataset, we are able to train a model based upon 297 rows of data. \n",
    "\n",
    "(Will rewrite a bit)\n"
   ]
  },
  {
   "cell_type": "markdown",
   "id": "116c4cca-122b-4d52-8e17-ea63f1757fa3",
   "metadata": {},
   "source": [
    "**Method and Results**\n",
    "\n",
    "Before we start doing any kind of work with our data, we need to load our neccesary libraries. These libraries contain the neccesary packages that will allow us to process, mutate, and eventually for presenting our data."
   ]
  },
  {
   "cell_type": "code",
   "execution_count": 119,
   "id": "6e0b0524-968f-4756-9124-63fe1a5f3235",
   "metadata": {},
   "outputs": [],
   "source": [
    "library(dplyr)\n",
    "library(tidyr) #Loading all libraries \n",
    "library(forcats)\n",
    "library(purrr)\n",
    "library(readr)\n",
    "library(ggplot2)\n",
    "library(cowplot)\n",
    "library(repr)\n",
    "library(tidyverse)\n",
    "library(tidymodels)\n",
    "library(gridExtra)\n",
    "options(repr.matrix.max.rows = 6)\n"
   ]
  },
  {
   "cell_type": "markdown",
   "id": "12486778-2c05-4430-84cf-766bb152a01a",
   "metadata": {},
   "source": [
    "Due to the original dataset being packaged in a \".zip\" file, we needed to extract the package locally first. For this project, we decided on the Cleveland dataset, as it best represents our capabilities and skills. Then, we uploaded our selected dataset onto Github, which would allow us to download the document onto this notebook. We used the URL containing the raw document for our purposes. In combination with the download.file command, we were able to load the dataset from the web\n"
   ]
  },
  {
   "cell_type": "code",
   "execution_count": 120,
   "id": "026384b9-0304-4d74-be71-e97dd7ff9223",
   "metadata": {},
   "outputs": [],
   "source": [
    "download.file(\"https://raw.githubusercontent.com/000557A/WebDataSet/main/processed.cleveland.data\",\n",
    "              \"Data/unprocessed.cleveland.data\")"
   ]
  },
  {
   "cell_type": "markdown",
   "id": "3c2c134b-354b-4985-a632-da367ea5af19",
   "metadata": {},
   "source": [
    "As indicated by the UC Irvine Machine Learning Repository (Where this dataset originated from), we know that this dataset has some missing columns. In the table included on the website, we see that the \"ca\" and \"thal\" variables contain missing values. A quick glance at our dataset allowed us to see that the placeholder values were indicated with a \"?\".\n",
    "\n",
    "Another aspect of this dataset is the missing column names. We retrieved the list of variables form the UC Irvine Repository, and added them back to our dataset.\n",
    "\n",
    "We have also decided to mutate each variable as a factor. This would allow us to ... (NOT FINISHED)"
   ]
  },
  {
   "cell_type": "code",
   "execution_count": 121,
   "id": "9e993498-dec7-4bb3-983c-505eadf04677",
   "metadata": {},
   "outputs": [
    {
     "name": "stderr",
     "output_type": "stream",
     "text": [
      "\u001b[1mRows: \u001b[22m\u001b[34m303\u001b[39m \u001b[1mColumns: \u001b[22m\u001b[34m14\u001b[39m\n",
      "\u001b[36m──\u001b[39m \u001b[1mColumn specification\u001b[22m \u001b[36m────────────────────────────────────────────────────────\u001b[39m\n",
      "\u001b[1mDelimiter:\u001b[22m \",\"\n",
      "\u001b[31mchr\u001b[39m  (2): ca, thal\n",
      "\u001b[32mdbl\u001b[39m (12): age, sex, cp, trestbps, chol, fbs, restecg, thalach, exang, oldpea...\n",
      "\n",
      "\u001b[36mℹ\u001b[39m Use `spec()` to retrieve the full column specification for this data.\n",
      "\u001b[36mℹ\u001b[39m Specify the column types or set `show_col_types = FALSE` to quiet this message.\n"
     ]
    }
   ],
   "source": [
    "heart_data <- read_delim(\"Data/processed.cleveland.data\", delim = \",\",\n",
    "          col_names = c(\"age\", \"sex\", \"cp\", \"trestbps\", \"chol\", \"fbs\", \"restecg\", \"thalach\", \"exang\", \"oldpeak\" , \"slope\", \"ca\", \"thal\", \"num\")\n",
    "                        )|> filter(ca != '?' , thal != \"?\") |>\n",
    "mutate(\"sex\" = as.factor(sex),\n",
    "       \"cp\" = as.factor(cp),\n",
    "       \"fbs\" = as.factor(fbs),\n",
    "       \"restecg\" = as.factor(restecg),\n",
    "       \"exang\" = as.factor(exang),\n",
    "      \"num\" = as.factor(num))"
   ]
  },
  {
   "cell_type": "markdown",
   "id": "e83cd9d1-1961-4005-a686-3dae4145064e",
   "metadata": {},
   "source": [
    "At this step, we also noticed that our dataset was still saved as a \".data\" file, rather than the commonly used \".csv\". Through this discovery, we converted our processed dataset into a csv file."
   ]
  },
  {
   "cell_type": "code",
   "execution_count": 122,
   "id": "66ac6a68-3efe-472b-9ab6-8a5860e11afc",
   "metadata": {},
   "outputs": [],
   "source": [
    "write.csv(heart_data, \"Data/data.csv\")"
   ]
  },
  {
   "cell_type": "markdown",
   "id": "b2a946ee-5b7c-4f4a-a28e-03febbeeeeb9",
   "metadata": {},
   "source": [
    "When we finally opened our newly created file, we realized that the first column was not something we wanted to keep. It contained the numbers that each row corresponded to, thus it was removed through \"select\""
   ]
  },
  {
   "cell_type": "code",
   "execution_count": 123,
   "id": "ef0493db-8c8a-4636-874c-3af0d6be8889",
   "metadata": {},
   "outputs": [
    {
     "name": "stderr",
     "output_type": "stream",
     "text": [
      "\u001b[1m\u001b[22mNew names:\n",
      "\u001b[36m•\u001b[39m `` -> `...1`\n",
      "\u001b[1mRows: \u001b[22m\u001b[34m297\u001b[39m \u001b[1mColumns: \u001b[22m\u001b[34m15\u001b[39m\n",
      "\u001b[36m──\u001b[39m \u001b[1mColumn specification\u001b[22m \u001b[36m────────────────────────────────────────────────────────\u001b[39m\n",
      "\u001b[1mDelimiter:\u001b[22m \",\"\n",
      "\u001b[32mdbl\u001b[39m (15): ...1, age, sex, cp, trestbps, chol, fbs, restecg, thalach, exang, ...\n",
      "\n",
      "\u001b[36mℹ\u001b[39m Use `spec()` to retrieve the full column specification for this data.\n",
      "\u001b[36mℹ\u001b[39m Specify the column types or set `show_col_types = FALSE` to quiet this message.\n"
     ]
    }
   ],
   "source": [
    "bob <- read_csv(\"Data/data.csv\")|>\n",
    "        select(age:num)"
   ]
  },
  {
   "cell_type": "markdown",
   "id": "e59156d5-363c-4bec-a99a-a272bb10c313",
   "metadata": {},
   "source": [
    "After our preliminary data processing, we were now ready to create summaries for our data. Many of the variables were irrelevent for our research, so we excluded them in our summarization tibble. As a group, we believed it was important to find the average age, resting blood pressure, serum colestoral levels, and maximum heart rate achieved. Aside from these variables, we also wanted to know how much data we had, thus we included the total observation count. "
   ]
  },
  {
   "cell_type": "code",
   "execution_count": 124,
   "id": "7a03b54a-2d77-4d80-a188-e485a0f867a0",
   "metadata": {},
   "outputs": [
    {
     "data": {
      "text/html": [
       "<table class=\"dataframe\">\n",
       "<caption>A tibble: 1 × 6</caption>\n",
       "<thead>\n",
       "\t<tr><th scope=col>age</th><th scope=col>trestbps</th><th scope=col>chol</th><th scope=col>thalach</th><th scope=col>num</th><th scope=col>Observation Count</th></tr>\n",
       "\t<tr><th scope=col>&lt;dbl&gt;</th><th scope=col>&lt;dbl&gt;</th><th scope=col>&lt;dbl&gt;</th><th scope=col>&lt;dbl&gt;</th><th scope=col>&lt;dbl&gt;</th><th scope=col>&lt;int&gt;</th></tr>\n",
       "</thead>\n",
       "<tbody>\n",
       "\t<tr><td>54.54209</td><td>131.6936</td><td>247.3502</td><td>149.5993</td><td>0.9461279</td><td>297</td></tr>\n",
       "</tbody>\n",
       "</table>\n"
      ],
      "text/latex": [
       "A tibble: 1 × 6\n",
       "\\begin{tabular}{llllll}\n",
       " age & trestbps & chol & thalach & num & Observation Count\\\\\n",
       " <dbl> & <dbl> & <dbl> & <dbl> & <dbl> & <int>\\\\\n",
       "\\hline\n",
       "\t 54.54209 & 131.6936 & 247.3502 & 149.5993 & 0.9461279 & 297\\\\\n",
       "\\end{tabular}\n"
      ],
      "text/markdown": [
       "\n",
       "A tibble: 1 × 6\n",
       "\n",
       "| age &lt;dbl&gt; | trestbps &lt;dbl&gt; | chol &lt;dbl&gt; | thalach &lt;dbl&gt; | num &lt;dbl&gt; | Observation Count &lt;int&gt; |\n",
       "|---|---|---|---|---|---|\n",
       "| 54.54209 | 131.6936 | 247.3502 | 149.5993 | 0.9461279 | 297 |\n",
       "\n"
      ],
      "text/plain": [
       "  age      trestbps chol     thalach  num       Observation Count\n",
       "1 54.54209 131.6936 247.3502 149.5993 0.9461279 297              "
      ]
     },
     "metadata": {},
     "output_type": "display_data"
    }
   ],
   "source": [
    "heart_data_mean <-bob |>\n",
    "map_df(mean)|>\n",
    "mutate(\"Observation Count\" = nrow(bob)) |>\n",
    "select(age,trestbps,chol,thalach,num,\"Observation Count\")\n",
    "\n",
    "#The actual table\n",
    "heart_data_mean\n"
   ]
  },
  {
   "cell_type": "markdown",
   "id": "bdf0443e-08ab-4ea8-aedf-0783c1851f6c",
   "metadata": {},
   "source": [
    "Before we start doing any kind classification, we need to split the data into 2 segments, a training set and a testing set.\n"
   ]
  },
  {
   "cell_type": "code",
   "execution_count": 125,
   "id": "add91d7d-edc5-4f1e-a283-4ff84abb3aec",
   "metadata": {},
   "outputs": [],
   "source": [
    "set.seed(727)\n",
    "heart_split <- initial_split(heart_data, prop = 0.75, strata = num)\n",
    "heart_train <- training(heart_split)\n",
    "heart_test <- testing(heart_split)"
   ]
  },
  {
   "cell_type": "markdown",
   "id": "fe387884-ae68-4243-9f7b-62eabd931e84",
   "metadata": {},
   "source": [
    "After we split the data, we MUST scale and center our data. This is because K-Nearest Neighbor classification relies heavily on the scale of the predictors.\n",
    "\n",
    "Since we are predicting the severity of the heart disagnostic based on age, resting heartbeat, etc. , we need to include these things in our recipe too."
   ]
  },
  {
   "cell_type": "code",
   "execution_count": 126,
   "id": "50291b5e-5d68-4e1b-a315-55f2da89d8f6",
   "metadata": {},
   "outputs": [],
   "source": [
    "set.seed(727)\n",
    "heart_recipe <- recipe(num ~ age  + thalach + chol + trestbps , data = heart_data) |>\n",
    "    step_scale(all_predictors()) |>\n",
    "    step_center(all_predictors())"
   ]
  },
  {
   "cell_type": "markdown",
   "id": "e3cec35f-9e48-4ced-9c99-d18e90ae619a",
   "metadata": {},
   "source": [
    "Since we don't exactly know what number of neighors to use yet, lets just test a range between 2 neighors and 6."
   ]
  },
  {
   "cell_type": "code",
   "execution_count": 127,
   "id": "f7e19ba1-1936-4d85-a9f0-8065ba32e180",
   "metadata": {},
   "outputs": [],
   "source": [
    "kvalues <- tibble(neighbors = seq(from = 2, to = 8, by = 1))"
   ]
  },
  {
   "cell_type": "markdown",
   "id": "414ab723-8ea9-4e92-b4c9-d30b0e8fe3d0",
   "metadata": {},
   "source": [
    "In order to ensure that our data is easily reproducible, we need to set a seed.\n",
    "\n",
    "For this project, we decided on setting the seed as 727.\n",
    "\n",
    "Since we are using KNN classification, it is important to find the best number of neighbors for classification.\n",
    "In order to do this, we will use 5-fold-cross-validation.\n",
    "\n",
    "The following code will be used to determine the optimal number of neighors used for this approximation\n"
   ]
  },
  {
   "cell_type": "code",
   "execution_count": 128,
   "id": "18d296c7-1961-47cb-b838-f3f0c94d4cdd",
   "metadata": {},
   "outputs": [],
   "source": [
    "set.seed(727)\n",
    "\n",
    "heart_vfold <- vfold_cv (heart_train, v = 5, strata = 4)\n",
    "\n",
    "knn_tune <- nearest_neighbor(weight_func = \"rectangular\", neighbors = tune())|>\n",
    "            set_engine(\"kknn\")|>\n",
    "            set_mode (\"classification\")\n",
    "\n",
    "heart_wkfl <- workflow ()|>\n",
    "            add_model(knn_tune)|>\n",
    "            add_recipe(heart_recipe)|>\n",
    "            tune_grid(resamples = heart_vfold, grid = kvalues)|>\n",
    "            collect_metrics()\n",
    "\n"
   ]
  },
  {
   "cell_type": "markdown",
   "id": "740c28fa-77b9-467e-9d94-43ee3f9fd802",
   "metadata": {},
   "source": [
    "In order to see the accuracy each K value gives, we need to filter our workflow to only contain the accuracy."
   ]
  },
  {
   "cell_type": "code",
   "execution_count": 129,
   "id": "9a39052a-5eb4-4d80-abc6-81ff253db5ff",
   "metadata": {},
   "outputs": [],
   "source": [
    "accuracy_data <- heart_wkfl |>\n",
    "            filter(.metric == \"accuracy\")\n"
   ]
  },
  {
   "cell_type": "code",
   "execution_count": 130,
   "id": "3d512625-b18f-4490-9ba5-b5dec59f5cc2",
   "metadata": {},
   "outputs": [
    {
     "data": {
      "application/pdf": "[encoded data removed]",
      "image/jpeg": "[encoded data removed]",
      "image/png": "[encoded data removed]",
      "image/svg+xml": [
       "<?xml version=\"1.0\" encoding=\"UTF-8\"?>\n",
       "<svg xmlns=\"http://www.w3.org/2000/svg\" xmlns:xlink=\"http://www.w3.org/1999/xlink\" width=\"432pt\" height=\"360pt\" viewBox=\"0 0 432 360\" version=\"1.1\">\n",
       "<defs>\n",
       "<g>\n",
       "<symbol overflow=\"visible\" id=\"glyph0-0\">\n",
       "<path style=\"stroke:none;\" d=\"M 0.296875 0 L 0.296875 -5.859375 L 2.625 -5.859375 L 2.625 0 Z M 0.578125 -0.296875 L 2.34375 -0.296875 L 2.34375 -5.578125 L 0.578125 -5.578125 Z M 0.578125 -0.296875 \"/>\n",
       "</symbol>\n",
       "<symbol overflow=\"visible\" id=\"glyph0-1\">\n",
       "<path style=\"stroke:none;\" d=\"M 4.546875 -3.03125 C 4.546875 -2.445312 4.488281 -1.957031 4.375 -1.5625 C 4.269531 -1.164062 4.117188 -0.84375 3.921875 -0.59375 C 3.734375 -0.351562 3.507812 -0.179688 3.25 -0.078125 C 3 0.0234375 2.726562 0.078125 2.4375 0.078125 C 2.144531 0.078125 1.867188 0.0234375 1.609375 -0.078125 C 1.359375 -0.179688 1.140625 -0.351562 0.953125 -0.59375 C 0.765625 -0.84375 0.613281 -1.164062 0.5 -1.5625 C 0.394531 -1.957031 0.34375 -2.445312 0.34375 -3.03125 C 0.34375 -3.632812 0.394531 -4.132812 0.5 -4.53125 C 0.613281 -4.9375 0.765625 -5.257812 0.953125 -5.5 C 1.140625 -5.738281 1.359375 -5.90625 1.609375 -6 C 1.867188 -6.09375 2.15625 -6.140625 2.46875 -6.140625 C 2.75 -6.140625 3.015625 -6.09375 3.265625 -6 C 3.523438 -5.90625 3.75 -5.738281 3.9375 -5.5 C 4.125 -5.257812 4.269531 -4.9375 4.375 -4.53125 C 4.488281 -4.132812 4.546875 -3.632812 4.546875 -3.03125 Z M 3.765625 -3.03125 C 3.765625 -3.507812 3.734375 -3.90625 3.671875 -4.21875 C 3.617188 -4.539062 3.535156 -4.796875 3.421875 -4.984375 C 3.304688 -5.179688 3.164062 -5.316406 3 -5.390625 C 2.84375 -5.472656 2.664062 -5.515625 2.46875 -5.515625 C 2.25 -5.515625 2.054688 -5.472656 1.890625 -5.390625 C 1.722656 -5.316406 1.582031 -5.179688 1.46875 -4.984375 C 1.351562 -4.796875 1.265625 -4.539062 1.203125 -4.21875 C 1.148438 -3.90625 1.125 -3.507812 1.125 -3.03125 C 1.125 -2.5625 1.148438 -2.164062 1.203125 -1.84375 C 1.265625 -1.53125 1.351562 -1.273438 1.46875 -1.078125 C 1.582031 -0.890625 1.71875 -0.753906 1.875 -0.671875 C 2.039062 -0.585938 2.226562 -0.546875 2.4375 -0.546875 C 2.644531 -0.546875 2.828125 -0.585938 2.984375 -0.671875 C 3.148438 -0.753906 3.289062 -0.890625 3.40625 -1.078125 C 3.519531 -1.273438 3.609375 -1.53125 3.671875 -1.84375 C 3.734375 -2.164062 3.765625 -2.5625 3.765625 -3.03125 Z M 3.765625 -3.03125 \"/>\n",
       "</symbol>\n",
       "<symbol overflow=\"visible\" id=\"glyph0-2\">\n",
       "<path style=\"stroke:none;\" d=\"M 0.796875 0 L 0.796875 -0.9375 L 1.640625 -0.9375 L 1.640625 0 Z M 0.796875 0 \"/>\n",
       "</symbol>\n",
       "<symbol overflow=\"visible\" id=\"glyph0-3\">\n",
       "<path style=\"stroke:none;\" d=\"M 3.78125 -1.375 L 3.78125 0 L 3.046875 0 L 3.046875 -1.375 L 0.203125 -1.375 L 0.203125 -1.96875 L 2.96875 -6.046875 L 3.78125 -6.046875 L 3.78125 -1.984375 L 4.640625 -1.984375 L 4.640625 -1.375 Z M 3.046875 -5.1875 C 3.046875 -5.164062 3.035156 -5.132812 3.015625 -5.09375 C 2.992188 -5.050781 2.96875 -5.003906 2.9375 -4.953125 C 2.90625 -4.898438 2.875 -4.847656 2.84375 -4.796875 C 2.8125 -4.742188 2.785156 -4.703125 2.765625 -4.671875 L 1.21875 -2.390625 C 1.195312 -2.359375 1.171875 -2.320312 1.140625 -2.28125 C 1.117188 -2.25 1.09375 -2.210938 1.0625 -2.171875 C 1.039062 -2.140625 1.015625 -2.101562 0.984375 -2.0625 C 0.953125 -2.03125 0.929688 -2.003906 0.921875 -1.984375 L 3.046875 -1.984375 Z M 3.046875 -5.1875 \"/>\n",
       "</symbol>\n",
       "<symbol overflow=\"visible\" id=\"glyph0-4\">\n",
       "<path style=\"stroke:none;\" d=\"M 4.515625 -1.96875 C 4.515625 -1.664062 4.46875 -1.390625 4.375 -1.140625 C 4.289062 -0.890625 4.15625 -0.671875 3.96875 -0.484375 C 3.789062 -0.304688 3.566406 -0.164062 3.296875 -0.0625 C 3.035156 0.03125 2.726562 0.078125 2.375 0.078125 C 2.0625 0.078125 1.785156 0.0390625 1.546875 -0.03125 C 1.304688 -0.101562 1.101562 -0.203125 0.9375 -0.328125 C 0.78125 -0.460938 0.648438 -0.613281 0.546875 -0.78125 C 0.453125 -0.957031 0.390625 -1.148438 0.359375 -1.359375 L 1.140625 -1.4375 C 1.171875 -1.320312 1.210938 -1.210938 1.265625 -1.109375 C 1.328125 -1.003906 1.40625 -0.910156 1.5 -0.828125 C 1.601562 -0.742188 1.722656 -0.675781 1.859375 -0.625 C 2.003906 -0.570312 2.179688 -0.546875 2.390625 -0.546875 C 2.585938 -0.546875 2.769531 -0.578125 2.9375 -0.640625 C 3.101562 -0.703125 3.242188 -0.789062 3.359375 -0.90625 C 3.472656 -1.03125 3.5625 -1.175781 3.625 -1.34375 C 3.6875 -1.519531 3.71875 -1.722656 3.71875 -1.953125 C 3.71875 -2.140625 3.6875 -2.3125 3.625 -2.46875 C 3.570312 -2.625 3.488281 -2.757812 3.375 -2.875 C 3.257812 -2.988281 3.117188 -3.078125 2.953125 -3.140625 C 2.796875 -3.203125 2.613281 -3.234375 2.40625 -3.234375 C 2.28125 -3.234375 2.160156 -3.21875 2.046875 -3.1875 C 1.941406 -3.164062 1.84375 -3.132812 1.75 -3.09375 C 1.65625 -3.0625 1.570312 -3.015625 1.5 -2.953125 C 1.425781 -2.898438 1.351562 -2.847656 1.28125 -2.796875 L 0.53125 -2.796875 L 0.734375 -6.046875 L 4.171875 -6.046875 L 4.171875 -5.390625 L 1.4375 -5.390625 L 1.3125 -3.46875 C 1.457031 -3.582031 1.628906 -3.675781 1.828125 -3.75 C 2.035156 -3.820312 2.28125 -3.859375 2.5625 -3.859375 C 2.863281 -3.859375 3.132812 -3.8125 3.375 -3.71875 C 3.613281 -3.632812 3.816406 -3.503906 3.984375 -3.328125 C 4.160156 -3.160156 4.289062 -2.960938 4.375 -2.734375 C 4.46875 -2.503906 4.515625 -2.25 4.515625 -1.96875 Z M 4.515625 -1.96875 \"/>\n",
       "</symbol>\n",
       "<symbol overflow=\"visible\" id=\"glyph0-5\">\n",
       "<path style=\"stroke:none;\" d=\"M 0.4375 0 L 0.4375 -0.546875 C 0.582031 -0.878906 0.757812 -1.171875 0.96875 -1.421875 C 1.1875 -1.679688 1.410156 -1.914062 1.640625 -2.125 C 1.867188 -2.332031 2.097656 -2.523438 2.328125 -2.703125 C 2.554688 -2.878906 2.757812 -3.054688 2.9375 -3.234375 C 3.125 -3.410156 3.273438 -3.597656 3.390625 -3.796875 C 3.503906 -3.992188 3.5625 -4.210938 3.5625 -4.453125 C 3.5625 -4.628906 3.535156 -4.78125 3.484375 -4.90625 C 3.429688 -5.039062 3.351562 -5.148438 3.25 -5.234375 C 3.15625 -5.328125 3.039062 -5.394531 2.90625 -5.4375 C 2.769531 -5.476562 2.617188 -5.5 2.453125 -5.5 C 2.296875 -5.5 2.148438 -5.476562 2.015625 -5.4375 C 1.878906 -5.394531 1.757812 -5.332031 1.65625 -5.25 C 1.550781 -5.164062 1.460938 -5.054688 1.390625 -4.921875 C 1.328125 -4.796875 1.285156 -4.648438 1.265625 -4.484375 L 0.484375 -4.5625 C 0.503906 -4.78125 0.5625 -4.984375 0.65625 -5.171875 C 0.75 -5.359375 0.878906 -5.523438 1.046875 -5.671875 C 1.210938 -5.816406 1.410156 -5.929688 1.640625 -6.015625 C 1.878906 -6.097656 2.148438 -6.140625 2.453125 -6.140625 C 2.753906 -6.140625 3.019531 -6.101562 3.25 -6.03125 C 3.488281 -5.957031 3.6875 -5.847656 3.84375 -5.703125 C 4.007812 -5.566406 4.132812 -5.394531 4.21875 -5.1875 C 4.3125 -4.988281 4.359375 -4.753906 4.359375 -4.484375 C 4.359375 -4.273438 4.320312 -4.078125 4.25 -3.890625 C 4.175781 -3.710938 4.078125 -3.539062 3.953125 -3.375 C 3.828125 -3.207031 3.6875 -3.046875 3.53125 -2.890625 C 3.375 -2.742188 3.207031 -2.59375 3.03125 -2.4375 C 2.851562 -2.289062 2.675781 -2.144531 2.5 -2 C 2.320312 -1.863281 2.15625 -1.722656 2 -1.578125 C 1.84375 -1.429688 1.703125 -1.28125 1.578125 -1.125 C 1.453125 -0.976562 1.359375 -0.820312 1.296875 -0.65625 L 4.453125 -0.65625 L 4.453125 0 Z M 0.4375 0 \"/>\n",
       "</symbol>\n",
       "<symbol overflow=\"visible\" id=\"glyph0-6\">\n",
       "<path style=\"stroke:none;\" d=\"M 4.5 -1.984375 C 4.5 -1.679688 4.457031 -1.398438 4.375 -1.140625 C 4.289062 -0.890625 4.164062 -0.671875 4 -0.484375 C 3.84375 -0.304688 3.640625 -0.164062 3.390625 -0.0625 C 3.148438 0.03125 2.867188 0.078125 2.546875 0.078125 C 2.191406 0.078125 1.882812 0.015625 1.625 -0.109375 C 1.363281 -0.242188 1.144531 -0.4375 0.96875 -0.6875 C 0.789062 -0.945312 0.660156 -1.257812 0.578125 -1.625 C 0.492188 -2 0.453125 -2.421875 0.453125 -2.890625 C 0.453125 -3.421875 0.5 -3.890625 0.59375 -4.296875 C 0.695312 -4.703125 0.835938 -5.039062 1.015625 -5.3125 C 1.203125 -5.59375 1.429688 -5.800781 1.703125 -5.9375 C 1.972656 -6.070312 2.273438 -6.140625 2.609375 -6.140625 C 2.816406 -6.140625 3.007812 -6.117188 3.1875 -6.078125 C 3.375 -6.035156 3.539062 -5.960938 3.6875 -5.859375 C 3.832031 -5.765625 3.957031 -5.640625 4.0625 -5.484375 C 4.175781 -5.328125 4.269531 -5.132812 4.34375 -4.90625 L 3.59375 -4.78125 C 3.519531 -5.039062 3.394531 -5.226562 3.21875 -5.34375 C 3.039062 -5.457031 2.835938 -5.515625 2.609375 -5.515625 C 2.390625 -5.515625 2.191406 -5.460938 2.015625 -5.359375 C 1.847656 -5.265625 1.703125 -5.117188 1.578125 -4.921875 C 1.460938 -4.722656 1.375 -4.472656 1.3125 -4.171875 C 1.25 -3.867188 1.21875 -3.515625 1.21875 -3.109375 C 1.351562 -3.367188 1.546875 -3.566406 1.796875 -3.703125 C 2.054688 -3.835938 2.351562 -3.90625 2.6875 -3.90625 C 2.957031 -3.90625 3.203125 -3.859375 3.421875 -3.765625 C 3.648438 -3.679688 3.84375 -3.554688 4 -3.390625 C 4.164062 -3.222656 4.289062 -3.019531 4.375 -2.78125 C 4.457031 -2.539062 4.5 -2.273438 4.5 -1.984375 Z M 3.71875 -1.953125 C 3.71875 -2.160156 3.691406 -2.347656 3.640625 -2.515625 C 3.585938 -2.679688 3.507812 -2.820312 3.40625 -2.9375 C 3.300781 -3.0625 3.171875 -3.15625 3.015625 -3.21875 C 2.867188 -3.28125 2.695312 -3.3125 2.5 -3.3125 C 2.363281 -3.3125 2.222656 -3.289062 2.078125 -3.25 C 1.929688 -3.207031 1.800781 -3.140625 1.6875 -3.046875 C 1.570312 -2.953125 1.476562 -2.828125 1.40625 -2.671875 C 1.332031 -2.523438 1.296875 -2.34375 1.296875 -2.125 C 1.296875 -1.90625 1.320312 -1.695312 1.375 -1.5 C 1.4375 -1.3125 1.519531 -1.144531 1.625 -1 C 1.726562 -0.851562 1.851562 -0.738281 2 -0.65625 C 2.15625 -0.570312 2.332031 -0.53125 2.53125 -0.53125 C 2.71875 -0.53125 2.882812 -0.5625 3.03125 -0.625 C 3.175781 -0.695312 3.300781 -0.789062 3.40625 -0.90625 C 3.507812 -1.03125 3.585938 -1.179688 3.640625 -1.359375 C 3.691406 -1.535156 3.71875 -1.734375 3.71875 -1.953125 Z M 3.71875 -1.953125 \"/>\n",
       "</symbol>\n",
       "<symbol overflow=\"visible\" id=\"glyph0-7\">\n",
       "<path style=\"stroke:none;\" d=\"M 4.515625 -1.6875 C 4.515625 -1.425781 4.472656 -1.1875 4.390625 -0.96875 C 4.304688 -0.757812 4.179688 -0.578125 4.015625 -0.421875 C 3.847656 -0.265625 3.632812 -0.140625 3.375 -0.046875 C 3.113281 0.0351562 2.804688 0.078125 2.453125 0.078125 C 2.097656 0.078125 1.789062 0.0351562 1.53125 -0.046875 C 1.269531 -0.140625 1.050781 -0.265625 0.875 -0.421875 C 0.707031 -0.578125 0.582031 -0.757812 0.5 -0.96875 C 0.414062 -1.1875 0.375 -1.421875 0.375 -1.671875 C 0.375 -1.898438 0.40625 -2.097656 0.46875 -2.265625 C 0.539062 -2.441406 0.632812 -2.59375 0.75 -2.71875 C 0.863281 -2.84375 0.992188 -2.941406 1.140625 -3.015625 C 1.285156 -3.085938 1.4375 -3.140625 1.59375 -3.171875 L 1.59375 -3.1875 C 1.414062 -3.226562 1.257812 -3.289062 1.125 -3.375 C 1 -3.46875 0.890625 -3.578125 0.796875 -3.703125 C 0.710938 -3.828125 0.644531 -3.960938 0.59375 -4.109375 C 0.550781 -4.265625 0.53125 -4.425781 0.53125 -4.59375 C 0.53125 -4.800781 0.566406 -5 0.640625 -5.1875 C 0.722656 -5.375 0.84375 -5.535156 1 -5.671875 C 1.164062 -5.816406 1.367188 -5.929688 1.609375 -6.015625 C 1.847656 -6.097656 2.125 -6.140625 2.4375 -6.140625 C 2.757812 -6.140625 3.039062 -6.097656 3.28125 -6.015625 C 3.53125 -5.929688 3.734375 -5.816406 3.890625 -5.671875 C 4.046875 -5.535156 4.160156 -5.375 4.234375 -5.1875 C 4.316406 -5 4.359375 -4.796875 4.359375 -4.578125 C 4.359375 -4.410156 4.332031 -4.25 4.28125 -4.09375 C 4.238281 -3.945312 4.171875 -3.8125 4.078125 -3.6875 C 3.992188 -3.5625 3.882812 -3.457031 3.75 -3.375 C 3.613281 -3.289062 3.457031 -3.226562 3.28125 -3.1875 L 3.28125 -3.171875 C 3.457031 -3.140625 3.617188 -3.085938 3.765625 -3.015625 C 3.921875 -2.941406 4.050781 -2.84375 4.15625 -2.71875 C 4.269531 -2.59375 4.359375 -2.441406 4.421875 -2.265625 C 4.484375 -2.097656 4.515625 -1.90625 4.515625 -1.6875 Z M 3.5625 -4.546875 C 3.5625 -4.691406 3.539062 -4.828125 3.5 -4.953125 C 3.457031 -5.078125 3.390625 -5.1875 3.296875 -5.28125 C 3.210938 -5.375 3.097656 -5.441406 2.953125 -5.484375 C 2.816406 -5.535156 2.644531 -5.5625 2.4375 -5.5625 C 2.226562 -5.5625 2.050781 -5.535156 1.90625 -5.484375 C 1.769531 -5.441406 1.65625 -5.375 1.5625 -5.28125 C 1.476562 -5.1875 1.414062 -5.078125 1.375 -4.953125 C 1.332031 -4.828125 1.3125 -4.691406 1.3125 -4.546875 C 1.3125 -4.421875 1.328125 -4.296875 1.359375 -4.171875 C 1.390625 -4.046875 1.445312 -3.929688 1.53125 -3.828125 C 1.613281 -3.722656 1.726562 -3.632812 1.875 -3.5625 C 2.019531 -3.5 2.207031 -3.46875 2.4375 -3.46875 C 2.6875 -3.46875 2.882812 -3.5 3.03125 -3.5625 C 3.175781 -3.632812 3.285156 -3.722656 3.359375 -3.828125 C 3.441406 -3.929688 3.492188 -4.046875 3.515625 -4.171875 C 3.546875 -4.296875 3.5625 -4.421875 3.5625 -4.546875 Z M 3.703125 -1.765625 C 3.703125 -1.910156 3.679688 -2.050781 3.640625 -2.1875 C 3.609375 -2.320312 3.539062 -2.441406 3.4375 -2.546875 C 3.34375 -2.648438 3.210938 -2.734375 3.046875 -2.796875 C 2.878906 -2.859375 2.675781 -2.890625 2.4375 -2.890625 C 2.207031 -2.890625 2.007812 -2.859375 1.84375 -2.796875 C 1.6875 -2.734375 1.554688 -2.648438 1.453125 -2.546875 C 1.359375 -2.441406 1.289062 -2.316406 1.25 -2.171875 C 1.207031 -2.035156 1.1875 -1.894531 1.1875 -1.75 C 1.1875 -1.5625 1.207031 -1.390625 1.25 -1.234375 C 1.289062 -1.078125 1.363281 -0.941406 1.46875 -0.828125 C 1.570312 -0.722656 1.703125 -0.640625 1.859375 -0.578125 C 2.023438 -0.523438 2.222656 -0.5 2.453125 -0.5 C 2.691406 -0.5 2.890625 -0.523438 3.046875 -0.578125 C 3.210938 -0.640625 3.34375 -0.722656 3.4375 -0.828125 C 3.53125 -0.941406 3.597656 -1.078125 3.640625 -1.234375 C 3.679688 -1.390625 3.703125 -1.566406 3.703125 -1.765625 Z M 3.703125 -1.765625 \"/>\n",
       "</symbol>\n",
       "<symbol overflow=\"visible\" id=\"glyph1-0\">\n",
       "<path style=\"stroke:none;\" d=\"M 0.359375 0 L 0.359375 -7.328125 L 3.28125 -7.328125 L 3.28125 0 Z M 0.734375 -0.359375 L 2.921875 -0.359375 L 2.921875 -6.96875 L 0.734375 -6.96875 Z M 0.734375 -0.359375 \"/>\n",
       "</symbol>\n",
       "<symbol overflow=\"visible\" id=\"glyph1-1\">\n",
       "<path style=\"stroke:none;\" d=\"M 5.8125 0 L 1.765625 -6.453125 C 1.765625 -6.273438 1.769531 -6.097656 1.78125 -5.921875 C 1.789062 -5.773438 1.796875 -5.617188 1.796875 -5.453125 C 1.804688 -5.296875 1.8125 -5.15625 1.8125 -5.03125 L 1.8125 0 L 0.90625 0 L 0.90625 -7.5625 L 2.09375 -7.5625 L 6.1875 -1.078125 C 6.175781 -1.253906 6.164062 -1.429688 6.15625 -1.609375 C 6.144531 -1.753906 6.132812 -1.914062 6.125 -2.09375 C 6.125 -2.269531 6.125 -2.441406 6.125 -2.609375 L 6.125 -7.5625 L 7.046875 -7.5625 L 7.046875 0 Z M 5.8125 0 \"/>\n",
       "</symbol>\n",
       "<symbol overflow=\"visible\" id=\"glyph1-2\">\n",
       "<path style=\"stroke:none;\" d=\"M 1.6875 -5.8125 L 1.6875 -2.125 C 1.6875 -1.84375 1.707031 -1.609375 1.75 -1.421875 C 1.789062 -1.234375 1.859375 -1.078125 1.953125 -0.953125 C 2.046875 -0.835938 2.164062 -0.753906 2.3125 -0.703125 C 2.46875 -0.660156 2.660156 -0.640625 2.890625 -0.640625 C 3.117188 -0.640625 3.320312 -0.675781 3.5 -0.75 C 3.6875 -0.832031 3.84375 -0.953125 3.96875 -1.109375 C 4.101562 -1.265625 4.207031 -1.453125 4.28125 -1.671875 C 4.351562 -1.898438 4.390625 -2.15625 4.390625 -2.4375 L 4.390625 -5.8125 L 5.359375 -5.8125 L 5.359375 -1.234375 C 5.359375 -1.117188 5.359375 -0.992188 5.359375 -0.859375 C 5.359375 -0.722656 5.359375 -0.59375 5.359375 -0.46875 C 5.367188 -0.351562 5.375 -0.25 5.375 -0.15625 C 5.375 -0.0703125 5.378906 -0.0195312 5.390625 0 L 4.46875 0 C 4.46875 -0.0195312 4.460938 -0.0664062 4.453125 -0.140625 C 4.453125 -0.222656 4.445312 -0.3125 4.4375 -0.40625 C 4.4375 -0.507812 4.4375 -0.613281 4.4375 -0.71875 C 4.4375 -0.832031 4.4375 -0.925781 4.4375 -1 L 4.421875 -1 C 4.328125 -0.820312 4.222656 -0.664062 4.109375 -0.53125 C 3.992188 -0.394531 3.863281 -0.28125 3.71875 -0.1875 C 3.570312 -0.09375 3.40625 -0.0195312 3.21875 0.03125 C 3.03125 0.0820312 2.8125 0.109375 2.5625 0.109375 C 2.238281 0.109375 1.957031 0.0703125 1.71875 0 C 1.488281 -0.0820312 1.296875 -0.207031 1.140625 -0.375 C 0.992188 -0.539062 0.882812 -0.75 0.8125 -1 C 0.75 -1.257812 0.71875 -1.570312 0.71875 -1.9375 L 0.71875 -5.8125 Z M 1.6875 -5.8125 \"/>\n",
       "</symbol>\n",
       "<symbol overflow=\"visible\" id=\"glyph1-3\">\n",
       "<path style=\"stroke:none;\" d=\"M 4.125 0 L 4.125 -3.6875 C 4.125 -3.96875 4.101562 -4.203125 4.0625 -4.390625 C 4.03125 -4.578125 3.972656 -4.726562 3.890625 -4.84375 C 3.804688 -4.96875 3.695312 -5.050781 3.5625 -5.09375 C 3.425781 -5.144531 3.257812 -5.171875 3.0625 -5.171875 C 2.851562 -5.171875 2.664062 -5.128906 2.5 -5.046875 C 2.34375 -4.972656 2.203125 -4.859375 2.078125 -4.703125 C 1.960938 -4.546875 1.875 -4.351562 1.8125 -4.125 C 1.75 -3.90625 1.71875 -3.65625 1.71875 -3.375 L 1.71875 0 L 0.765625 0 L 0.765625 -4.578125 C 0.765625 -4.691406 0.757812 -4.816406 0.75 -4.953125 C 0.75 -5.085938 0.75 -5.210938 0.75 -5.328125 C 0.75 -5.453125 0.742188 -5.554688 0.734375 -5.640625 C 0.734375 -5.734375 0.734375 -5.789062 0.734375 -5.8125 L 1.640625 -5.8125 C 1.648438 -5.789062 1.65625 -5.738281 1.65625 -5.65625 C 1.65625 -5.582031 1.65625 -5.492188 1.65625 -5.390625 C 1.664062 -5.296875 1.671875 -5.191406 1.671875 -5.078125 C 1.679688 -4.972656 1.6875 -4.882812 1.6875 -4.8125 L 1.703125 -4.8125 C 1.785156 -4.988281 1.875 -5.144531 1.96875 -5.28125 C 2.070312 -5.414062 2.191406 -5.53125 2.328125 -5.625 C 2.460938 -5.71875 2.617188 -5.789062 2.796875 -5.84375 C 2.972656 -5.894531 3.175781 -5.921875 3.40625 -5.921875 C 3.84375 -5.921875 4.1875 -5.832031 4.4375 -5.65625 C 4.695312 -5.476562 4.878906 -5.195312 4.984375 -4.8125 L 5 -4.8125 C 5.082031 -4.988281 5.175781 -5.144531 5.28125 -5.28125 C 5.394531 -5.414062 5.519531 -5.53125 5.65625 -5.625 C 5.800781 -5.71875 5.960938 -5.789062 6.140625 -5.84375 C 6.316406 -5.894531 6.519531 -5.921875 6.75 -5.921875 C 7.050781 -5.921875 7.304688 -5.878906 7.515625 -5.796875 C 7.734375 -5.722656 7.910156 -5.601562 8.046875 -5.4375 C 8.179688 -5.269531 8.28125 -5.054688 8.34375 -4.796875 C 8.40625 -4.535156 8.4375 -4.226562 8.4375 -3.875 L 8.4375 0 L 7.484375 0 L 7.484375 -3.6875 C 7.484375 -3.96875 7.460938 -4.203125 7.421875 -4.390625 C 7.390625 -4.578125 7.332031 -4.726562 7.25 -4.84375 C 7.164062 -4.96875 7.054688 -5.050781 6.921875 -5.09375 C 6.785156 -5.144531 6.617188 -5.171875 6.421875 -5.171875 C 6.210938 -5.171875 6.023438 -5.128906 5.859375 -5.046875 C 5.703125 -4.972656 5.5625 -4.859375 5.4375 -4.703125 C 5.320312 -4.554688 5.234375 -4.367188 5.171875 -4.140625 C 5.109375 -3.921875 5.078125 -3.664062 5.078125 -3.375 L 5.078125 0 Z M 4.125 0 \"/>\n",
       "</symbol>\n",
       "<symbol overflow=\"visible\" id=\"glyph1-4\">\n",
       "<path style=\"stroke:none;\" d=\"M 5.65625 -2.9375 C 5.65625 -0.90625 4.941406 0.109375 3.515625 0.109375 C 3.078125 0.109375 2.710938 0.03125 2.421875 -0.125 C 2.128906 -0.289062 1.890625 -0.550781 1.703125 -0.90625 C 1.703125 -0.8125 1.695312 -0.710938 1.6875 -0.609375 C 1.6875 -0.515625 1.679688 -0.421875 1.671875 -0.328125 C 1.671875 -0.242188 1.664062 -0.171875 1.65625 -0.109375 C 1.65625 -0.046875 1.648438 -0.0078125 1.640625 0 L 0.703125 0 C 0.710938 -0.03125 0.71875 -0.0820312 0.71875 -0.15625 C 0.71875 -0.238281 0.71875 -0.332031 0.71875 -0.4375 C 0.726562 -0.550781 0.734375 -0.671875 0.734375 -0.796875 C 0.734375 -0.921875 0.734375 -1.054688 0.734375 -1.203125 L 0.734375 -7.96875 L 1.703125 -7.96875 L 1.703125 -5.703125 C 1.703125 -5.585938 1.703125 -5.484375 1.703125 -5.390625 C 1.703125 -5.296875 1.703125 -5.207031 1.703125 -5.125 C 1.691406 -5.039062 1.6875 -4.957031 1.6875 -4.875 L 1.703125 -4.875 C 1.890625 -5.25 2.128906 -5.515625 2.421875 -5.671875 C 2.710938 -5.835938 3.078125 -5.921875 3.515625 -5.921875 C 4.253906 -5.921875 4.796875 -5.671875 5.140625 -5.171875 C 5.484375 -4.679688 5.65625 -3.9375 5.65625 -2.9375 Z M 4.640625 -2.90625 C 4.640625 -3.300781 4.613281 -3.640625 4.5625 -3.921875 C 4.507812 -4.210938 4.425781 -4.453125 4.3125 -4.640625 C 4.207031 -4.828125 4.066406 -4.960938 3.890625 -5.046875 C 3.722656 -5.128906 3.515625 -5.171875 3.265625 -5.171875 C 3.015625 -5.171875 2.789062 -5.128906 2.59375 -5.046875 C 2.394531 -4.960938 2.226562 -4.828125 2.09375 -4.640625 C 1.96875 -4.460938 1.867188 -4.222656 1.796875 -3.921875 C 1.734375 -3.628906 1.703125 -3.269531 1.703125 -2.84375 C 1.703125 -2.425781 1.734375 -2.078125 1.796875 -1.796875 C 1.867188 -1.515625 1.96875 -1.285156 2.09375 -1.109375 C 2.226562 -0.929688 2.394531 -0.800781 2.59375 -0.71875 C 2.789062 -0.644531 3.015625 -0.609375 3.265625 -0.609375 C 3.492188 -0.609375 3.691406 -0.648438 3.859375 -0.734375 C 4.035156 -0.816406 4.179688 -0.945312 4.296875 -1.125 C 4.410156 -1.3125 4.492188 -1.550781 4.546875 -1.84375 C 4.609375 -2.132812 4.640625 -2.488281 4.640625 -2.90625 Z M 4.640625 -2.90625 \"/>\n",
       "</symbol>\n",
       "<symbol overflow=\"visible\" id=\"glyph1-5\">\n",
       "<path style=\"stroke:none;\" d=\"M 1.484375 -2.703125 C 1.484375 -2.398438 1.515625 -2.117188 1.578125 -1.859375 C 1.640625 -1.609375 1.734375 -1.390625 1.859375 -1.203125 C 1.992188 -1.015625 2.160156 -0.867188 2.359375 -0.765625 C 2.566406 -0.671875 2.816406 -0.625 3.109375 -0.625 C 3.523438 -0.625 3.859375 -0.707031 4.109375 -0.875 C 4.359375 -1.039062 4.53125 -1.253906 4.625 -1.515625 L 5.46875 -1.265625 C 5.40625 -1.109375 5.316406 -0.945312 5.203125 -0.78125 C 5.097656 -0.613281 4.953125 -0.460938 4.765625 -0.328125 C 4.585938 -0.203125 4.363281 -0.0976562 4.09375 -0.015625 C 3.820312 0.0664062 3.492188 0.109375 3.109375 0.109375 C 2.242188 0.109375 1.585938 -0.144531 1.140625 -0.65625 C 0.691406 -1.164062 0.46875 -1.925781 0.46875 -2.9375 C 0.46875 -3.488281 0.535156 -3.953125 0.671875 -4.328125 C 0.804688 -4.703125 0.988281 -5.007812 1.21875 -5.25 C 1.457031 -5.488281 1.734375 -5.660156 2.046875 -5.765625 C 2.367188 -5.867188 2.707031 -5.921875 3.0625 -5.921875 C 3.550781 -5.921875 3.957031 -5.84375 4.28125 -5.6875 C 4.613281 -5.53125 4.878906 -5.3125 5.078125 -5.03125 C 5.273438 -4.75 5.414062 -4.421875 5.5 -4.046875 C 5.582031 -3.671875 5.625 -3.265625 5.625 -2.828125 L 5.625 -2.703125 Z M 4.625 -3.4375 C 4.570312 -4.050781 4.414062 -4.5 4.15625 -4.78125 C 3.90625 -5.0625 3.535156 -5.203125 3.046875 -5.203125 C 2.890625 -5.203125 2.722656 -5.175781 2.546875 -5.125 C 2.367188 -5.070312 2.203125 -4.976562 2.046875 -4.84375 C 1.898438 -4.71875 1.773438 -4.539062 1.671875 -4.3125 C 1.566406 -4.082031 1.507812 -3.789062 1.5 -3.4375 Z M 4.625 -3.4375 \"/>\n",
       "</symbol>\n",
       "<symbol overflow=\"visible\" id=\"glyph1-6\">\n",
       "<path style=\"stroke:none;\" d=\"M 0.765625 0 L 0.765625 -4.453125 C 0.765625 -4.578125 0.757812 -4.703125 0.75 -4.828125 C 0.75 -4.953125 0.75 -5.070312 0.75 -5.1875 C 0.75 -5.3125 0.742188 -5.425781 0.734375 -5.53125 C 0.734375 -5.632812 0.734375 -5.726562 0.734375 -5.8125 L 1.640625 -5.8125 C 1.648438 -5.726562 1.65625 -5.632812 1.65625 -5.53125 C 1.664062 -5.425781 1.671875 -5.316406 1.671875 -5.203125 C 1.679688 -5.085938 1.6875 -4.976562 1.6875 -4.875 C 1.6875 -4.78125 1.6875 -4.695312 1.6875 -4.625 L 1.703125 -4.625 C 1.773438 -4.84375 1.847656 -5.035156 1.921875 -5.203125 C 2.003906 -5.367188 2.097656 -5.503906 2.203125 -5.609375 C 2.304688 -5.710938 2.425781 -5.789062 2.5625 -5.84375 C 2.707031 -5.894531 2.882812 -5.921875 3.09375 -5.921875 C 3.164062 -5.921875 3.238281 -5.910156 3.3125 -5.890625 C 3.382812 -5.878906 3.441406 -5.867188 3.484375 -5.859375 L 3.484375 -4.984375 C 3.421875 -4.992188 3.34375 -5.003906 3.25 -5.015625 C 3.164062 -5.023438 3.070312 -5.03125 2.96875 -5.03125 C 2.738281 -5.03125 2.546875 -4.976562 2.390625 -4.875 C 2.242188 -4.78125 2.117188 -4.644531 2.015625 -4.46875 C 1.921875 -4.289062 1.847656 -4.078125 1.796875 -3.828125 C 1.753906 -3.585938 1.734375 -3.320312 1.734375 -3.03125 L 1.734375 0 Z M 0.765625 0 \"/>\n",
       "</symbol>\n",
       "<symbol overflow=\"visible\" id=\"glyph1-7\">\n",
       "<path style=\"stroke:none;\" d=\"\"/>\n",
       "</symbol>\n",
       "<symbol overflow=\"visible\" id=\"glyph1-8\">\n",
       "<path style=\"stroke:none;\" d=\"M 5.65625 -2.90625 C 5.65625 -1.894531 5.429688 -1.140625 4.984375 -0.640625 C 4.535156 -0.140625 3.882812 0.109375 3.03125 0.109375 C 2.625 0.109375 2.257812 0.046875 1.9375 -0.078125 C 1.625 -0.203125 1.359375 -0.390625 1.140625 -0.640625 C 0.921875 -0.890625 0.753906 -1.203125 0.640625 -1.578125 C 0.523438 -1.953125 0.46875 -2.394531 0.46875 -2.90625 C 0.46875 -4.914062 1.332031 -5.921875 3.0625 -5.921875 C 3.519531 -5.921875 3.910156 -5.859375 4.234375 -5.734375 C 4.566406 -5.609375 4.835938 -5.421875 5.046875 -5.171875 C 5.253906 -4.921875 5.40625 -4.601562 5.5 -4.21875 C 5.601562 -3.84375 5.65625 -3.40625 5.65625 -2.90625 Z M 4.640625 -2.90625 C 4.640625 -3.363281 4.601562 -3.738281 4.53125 -4.03125 C 4.46875 -4.320312 4.367188 -4.554688 4.234375 -4.734375 C 4.097656 -4.910156 3.929688 -5.03125 3.734375 -5.09375 C 3.546875 -5.164062 3.328125 -5.203125 3.078125 -5.203125 C 2.835938 -5.203125 2.613281 -5.164062 2.40625 -5.09375 C 2.207031 -5.019531 2.039062 -4.894531 1.90625 -4.71875 C 1.769531 -4.539062 1.664062 -4.304688 1.59375 -4.015625 C 1.519531 -3.722656 1.484375 -3.351562 1.484375 -2.90625 C 1.484375 -2.457031 1.519531 -2.082031 1.59375 -1.78125 C 1.675781 -1.488281 1.785156 -1.253906 1.921875 -1.078125 C 2.054688 -0.910156 2.21875 -0.789062 2.40625 -0.71875 C 2.59375 -0.644531 2.800781 -0.609375 3.03125 -0.609375 C 3.269531 -0.609375 3.488281 -0.640625 3.6875 -0.703125 C 3.894531 -0.773438 4.066406 -0.898438 4.203125 -1.078125 C 4.347656 -1.253906 4.457031 -1.488281 4.53125 -1.78125 C 4.601562 -2.082031 4.640625 -2.457031 4.640625 -2.90625 Z M 4.640625 -2.90625 \"/>\n",
       "</symbol>\n",
       "<symbol overflow=\"visible\" id=\"glyph1-9\">\n",
       "<path style=\"stroke:none;\" d=\"M 1.9375 -5.109375 L 1.9375 0 L 0.96875 0 L 0.96875 -5.109375 L 0.15625 -5.109375 L 0.15625 -5.8125 L 0.96875 -5.8125 L 0.96875 -6.46875 C 0.96875 -6.675781 0.988281 -6.867188 1.03125 -7.046875 C 1.070312 -7.234375 1.144531 -7.394531 1.25 -7.53125 C 1.351562 -7.664062 1.492188 -7.769531 1.671875 -7.84375 C 1.859375 -7.914062 2.097656 -7.953125 2.390625 -7.953125 C 2.503906 -7.953125 2.625 -7.945312 2.75 -7.9375 C 2.875 -7.925781 2.984375 -7.910156 3.078125 -7.890625 L 3.078125 -7.15625 C 3.015625 -7.164062 2.941406 -7.175781 2.859375 -7.1875 C 2.773438 -7.195312 2.703125 -7.203125 2.640625 -7.203125 C 2.492188 -7.203125 2.375 -7.179688 2.28125 -7.140625 C 2.195312 -7.097656 2.128906 -7.039062 2.078125 -6.96875 C 2.023438 -6.894531 1.988281 -6.804688 1.96875 -6.703125 C 1.945312 -6.597656 1.9375 -6.472656 1.9375 -6.328125 L 1.9375 -5.8125 L 3.078125 -5.8125 L 3.078125 -5.109375 Z M 1.9375 -5.109375 \"/>\n",
       "</symbol>\n",
       "<symbol overflow=\"visible\" id=\"glyph1-10\">\n",
       "<path style=\"stroke:none;\" d=\"M 5.9375 0 L 2.921875 -3.65625 L 1.921875 -2.90625 L 1.921875 0 L 0.90625 0 L 0.90625 -7.5625 L 1.921875 -7.5625 L 1.921875 -3.78125 L 5.578125 -7.5625 L 6.78125 -7.5625 L 3.5625 -4.28125 L 7.21875 0 Z M 5.9375 0 \"/>\n",
       "</symbol>\n",
       "<symbol overflow=\"visible\" id=\"glyph1-11\">\n",
       "<path style=\"stroke:none;\" d=\"M 1.421875 -5.1875 L 0.671875 -5.1875 L 0.5625 -7.5625 L 1.546875 -7.5625 Z M 1.421875 -5.1875 \"/>\n",
       "</symbol>\n",
       "<symbol overflow=\"visible\" id=\"glyph1-12\">\n",
       "<path style=\"stroke:none;\" d=\"M 5.109375 -1.609375 C 5.109375 -1.335938 5.050781 -1.09375 4.9375 -0.875 C 4.832031 -0.664062 4.679688 -0.488281 4.484375 -0.34375 C 4.285156 -0.195312 4.039062 -0.0820312 3.75 0 C 3.457031 0.0703125 3.125 0.109375 2.75 0.109375 C 2.40625 0.109375 2.097656 0.0820312 1.828125 0.03125 C 1.554688 -0.0195312 1.316406 -0.101562 1.109375 -0.21875 C 0.910156 -0.332031 0.742188 -0.484375 0.609375 -0.671875 C 0.472656 -0.859375 0.375 -1.085938 0.3125 -1.359375 L 1.15625 -1.53125 C 1.238281 -1.21875 1.410156 -0.988281 1.671875 -0.84375 C 1.929688 -0.695312 2.289062 -0.625 2.75 -0.625 C 2.957031 -0.625 3.144531 -0.640625 3.3125 -0.671875 C 3.488281 -0.703125 3.640625 -0.75 3.765625 -0.8125 C 3.890625 -0.882812 3.984375 -0.976562 4.046875 -1.09375 C 4.117188 -1.207031 4.15625 -1.351562 4.15625 -1.53125 C 4.15625 -1.707031 4.113281 -1.847656 4.03125 -1.953125 C 3.957031 -2.066406 3.84375 -2.160156 3.6875 -2.234375 C 3.539062 -2.316406 3.363281 -2.382812 3.15625 -2.4375 C 2.945312 -2.5 2.71875 -2.5625 2.46875 -2.625 C 2.238281 -2.6875 2.007812 -2.753906 1.78125 -2.828125 C 1.550781 -2.898438 1.34375 -3 1.15625 -3.125 C 0.96875 -3.25 0.816406 -3.398438 0.703125 -3.578125 C 0.585938 -3.765625 0.53125 -4 0.53125 -4.28125 C 0.53125 -4.8125 0.71875 -5.210938 1.09375 -5.484375 C 1.476562 -5.765625 2.03125 -5.90625 2.75 -5.90625 C 3.394531 -5.90625 3.90625 -5.789062 4.28125 -5.5625 C 4.65625 -5.332031 4.894531 -4.972656 5 -4.484375 L 4.125 -4.375 C 4.09375 -4.519531 4.035156 -4.644531 3.953125 -4.75 C 3.867188 -4.851562 3.765625 -4.9375 3.640625 -5 C 3.515625 -5.0625 3.375 -5.101562 3.21875 -5.125 C 3.070312 -5.15625 2.914062 -5.171875 2.75 -5.171875 C 2.3125 -5.171875 1.988281 -5.101562 1.78125 -4.96875 C 1.582031 -4.84375 1.484375 -4.644531 1.484375 -4.375 C 1.484375 -4.21875 1.519531 -4.085938 1.59375 -3.984375 C 1.664062 -3.878906 1.769531 -3.789062 1.90625 -3.71875 C 2.050781 -3.65625 2.21875 -3.597656 2.40625 -3.546875 C 2.601562 -3.492188 2.816406 -3.4375 3.046875 -3.375 C 3.203125 -3.332031 3.359375 -3.289062 3.515625 -3.25 C 3.679688 -3.207031 3.835938 -3.15625 3.984375 -3.09375 C 4.140625 -3.03125 4.285156 -2.957031 4.421875 -2.875 C 4.554688 -2.789062 4.671875 -2.6875 4.765625 -2.5625 C 4.867188 -2.445312 4.953125 -2.3125 5.015625 -2.15625 C 5.078125 -2 5.109375 -1.816406 5.109375 -1.609375 Z M 5.109375 -1.609375 \"/>\n",
       "</symbol>\n",
       "<symbol overflow=\"visible\" id=\"glyph2-0\">\n",
       "<path style=\"stroke:none;\" d=\"M 0 -0.359375 L -7.328125 -0.359375 L -7.328125 -3.28125 L 0 -3.28125 Z M -0.359375 -0.734375 L -0.359375 -2.921875 L -6.96875 -2.921875 L -6.96875 -0.734375 Z M -0.359375 -0.734375 \"/>\n",
       "</symbol>\n",
       "<symbol overflow=\"visible\" id=\"glyph2-1\">\n",
       "<path style=\"stroke:none;\" d=\"M 0 -6.265625 L -2.21875 -5.40625 L -2.21875 -1.953125 L 0 -1.078125 L 0 -0.015625 L -7.5625 -3.109375 L -7.5625 -4.28125 L 0 -7.3125 Z M -5.515625 -4.125 C -5.648438 -4.070312 -5.789062 -4.019531 -5.9375 -3.96875 C -6.09375 -3.914062 -6.226562 -3.867188 -6.34375 -3.828125 C -6.46875 -3.785156 -6.566406 -3.75 -6.640625 -3.71875 C -6.722656 -3.695312 -6.773438 -3.679688 -6.796875 -3.671875 C -6.773438 -3.671875 -6.722656 -3.65625 -6.640625 -3.625 C -6.554688 -3.601562 -6.453125 -3.570312 -6.328125 -3.53125 C -6.210938 -3.488281 -6.082031 -3.441406 -5.9375 -3.390625 C -5.789062 -3.335938 -5.644531 -3.285156 -5.5 -3.234375 L -3.015625 -2.265625 L -3.015625 -5.09375 Z M -5.515625 -4.125 \"/>\n",
       "</symbol>\n",
       "<symbol overflow=\"visible\" id=\"glyph2-2\">\n",
       "<path style=\"stroke:none;\" d=\"M -2.9375 -1.484375 C -2.601562 -1.484375 -2.296875 -1.503906 -2.015625 -1.546875 C -1.734375 -1.597656 -1.488281 -1.679688 -1.28125 -1.796875 C -1.082031 -1.910156 -0.925781 -2.0625 -0.8125 -2.25 C -0.707031 -2.4375 -0.65625 -2.664062 -0.65625 -2.9375 C -0.65625 -3.28125 -0.75 -3.566406 -0.9375 -3.796875 C -1.125 -4.035156 -1.410156 -4.179688 -1.796875 -4.234375 L -1.734375 -5.203125 C -1.492188 -5.171875 -1.257812 -5.101562 -1.03125 -5 C -0.8125 -4.894531 -0.617188 -4.75 -0.453125 -4.5625 C -0.285156 -4.375 -0.148438 -4.144531 -0.046875 -3.875 C 0.0546875 -3.613281 0.109375 -3.3125 0.109375 -2.96875 C 0.109375 -2.507812 0.03125 -2.117188 -0.125 -1.796875 C -0.28125 -1.484375 -0.492188 -1.226562 -0.765625 -1.03125 C -1.035156 -0.832031 -1.351562 -0.6875 -1.71875 -0.59375 C -2.082031 -0.507812 -2.476562 -0.46875 -2.90625 -0.46875 C -3.300781 -0.46875 -3.644531 -0.5 -3.9375 -0.5625 C -4.238281 -0.625 -4.5 -0.710938 -4.71875 -0.828125 C -4.945312 -0.953125 -5.132812 -1.09375 -5.28125 -1.25 C -5.4375 -1.40625 -5.5625 -1.570312 -5.65625 -1.75 C -5.75 -1.9375 -5.816406 -2.128906 -5.859375 -2.328125 C -5.898438 -2.535156 -5.921875 -2.742188 -5.921875 -2.953125 C -5.921875 -3.285156 -5.875 -3.578125 -5.78125 -3.828125 C -5.695312 -4.085938 -5.578125 -4.304688 -5.421875 -4.484375 C -5.265625 -4.671875 -5.078125 -4.820312 -4.859375 -4.9375 C -4.648438 -5.050781 -4.425781 -5.128906 -4.1875 -5.171875 L -4.109375 -4.1875 C -4.429688 -4.132812 -4.6875 -4.003906 -4.875 -3.796875 C -5.0625 -3.597656 -5.15625 -3.3125 -5.15625 -2.9375 C -5.15625 -2.65625 -5.109375 -2.421875 -5.015625 -2.234375 C -4.929688 -2.054688 -4.796875 -1.910156 -4.609375 -1.796875 C -4.421875 -1.679688 -4.1875 -1.597656 -3.90625 -1.546875 C -3.632812 -1.503906 -3.3125 -1.484375 -2.9375 -1.484375 Z M -2.9375 -1.484375 \"/>\n",
       "</symbol>\n",
       "<symbol overflow=\"visible\" id=\"glyph2-3\">\n",
       "<path style=\"stroke:none;\" d=\"M -5.8125 -1.6875 L -2.125 -1.6875 C -1.84375 -1.6875 -1.609375 -1.707031 -1.421875 -1.75 C -1.234375 -1.789062 -1.078125 -1.859375 -0.953125 -1.953125 C -0.835938 -2.046875 -0.753906 -2.164062 -0.703125 -2.3125 C -0.660156 -2.46875 -0.640625 -2.660156 -0.640625 -2.890625 C -0.640625 -3.117188 -0.675781 -3.320312 -0.75 -3.5 C -0.832031 -3.6875 -0.953125 -3.84375 -1.109375 -3.96875 C -1.265625 -4.101562 -1.453125 -4.207031 -1.671875 -4.28125 C -1.898438 -4.351562 -2.15625 -4.390625 -2.4375 -4.390625 L -5.8125 -4.390625 L -5.8125 -5.359375 L -1.234375 -5.359375 C -1.117188 -5.359375 -0.992188 -5.359375 -0.859375 -5.359375 C -0.722656 -5.359375 -0.59375 -5.359375 -0.46875 -5.359375 C -0.351562 -5.367188 -0.25 -5.375 -0.15625 -5.375 C -0.0703125 -5.375 -0.0195312 -5.378906 0 -5.390625 L 0 -4.46875 C -0.0195312 -4.46875 -0.0664062 -4.460938 -0.140625 -4.453125 C -0.222656 -4.453125 -0.3125 -4.445312 -0.40625 -4.4375 C -0.507812 -4.4375 -0.613281 -4.4375 -0.71875 -4.4375 C -0.832031 -4.4375 -0.925781 -4.4375 -1 -4.4375 L -1 -4.421875 C -0.820312 -4.328125 -0.664062 -4.222656 -0.53125 -4.109375 C -0.394531 -3.992188 -0.28125 -3.863281 -0.1875 -3.71875 C -0.09375 -3.570312 -0.0195312 -3.40625 0.03125 -3.21875 C 0.0820312 -3.03125 0.109375 -2.8125 0.109375 -2.5625 C 0.109375 -2.238281 0.0703125 -1.957031 0 -1.71875 C -0.0820312 -1.488281 -0.207031 -1.296875 -0.375 -1.140625 C -0.539062 -0.992188 -0.75 -0.882812 -1 -0.8125 C -1.257812 -0.75 -1.570312 -0.71875 -1.9375 -0.71875 L -5.8125 -0.71875 Z M -5.8125 -1.6875 \"/>\n",
       "</symbol>\n",
       "<symbol overflow=\"visible\" id=\"glyph2-4\">\n",
       "<path style=\"stroke:none;\" d=\"M 0 -0.765625 L -4.453125 -0.765625 C -4.578125 -0.765625 -4.703125 -0.757812 -4.828125 -0.75 C -4.953125 -0.75 -5.070312 -0.75 -5.1875 -0.75 C -5.3125 -0.75 -5.425781 -0.742188 -5.53125 -0.734375 C -5.632812 -0.734375 -5.726562 -0.734375 -5.8125 -0.734375 L -5.8125 -1.640625 C -5.726562 -1.648438 -5.632812 -1.65625 -5.53125 -1.65625 C -5.425781 -1.664062 -5.316406 -1.671875 -5.203125 -1.671875 C -5.085938 -1.679688 -4.976562 -1.6875 -4.875 -1.6875 C -4.78125 -1.6875 -4.695312 -1.6875 -4.625 -1.6875 L -4.625 -1.703125 C -4.84375 -1.773438 -5.035156 -1.847656 -5.203125 -1.921875 C -5.367188 -2.003906 -5.503906 -2.097656 -5.609375 -2.203125 C -5.710938 -2.304688 -5.789062 -2.425781 -5.84375 -2.5625 C -5.894531 -2.707031 -5.921875 -2.882812 -5.921875 -3.09375 C -5.921875 -3.164062 -5.910156 -3.238281 -5.890625 -3.3125 C -5.878906 -3.382812 -5.867188 -3.441406 -5.859375 -3.484375 L -4.984375 -3.484375 C -4.992188 -3.421875 -5.003906 -3.34375 -5.015625 -3.25 C -5.023438 -3.164062 -5.03125 -3.070312 -5.03125 -2.96875 C -5.03125 -2.738281 -4.976562 -2.546875 -4.875 -2.390625 C -4.78125 -2.242188 -4.644531 -2.117188 -4.46875 -2.015625 C -4.289062 -1.921875 -4.078125 -1.847656 -3.828125 -1.796875 C -3.585938 -1.753906 -3.320312 -1.734375 -3.03125 -1.734375 L 0 -1.734375 Z M 0 -0.765625 \"/>\n",
       "</symbol>\n",
       "<symbol overflow=\"visible\" id=\"glyph2-5\">\n",
       "<path style=\"stroke:none;\" d=\"M 0.109375 -2.21875 C 0.109375 -1.632812 -0.0390625 -1.195312 -0.34375 -0.90625 C -0.65625 -0.613281 -1.082031 -0.46875 -1.625 -0.46875 C -2.007812 -0.46875 -2.320312 -0.539062 -2.5625 -0.6875 C -2.8125 -0.832031 -3.003906 -1.019531 -3.140625 -1.25 C -3.285156 -1.488281 -3.382812 -1.757812 -3.4375 -2.0625 C -3.488281 -2.363281 -3.519531 -2.664062 -3.53125 -2.96875 L -3.546875 -4.28125 L -3.859375 -4.28125 C -4.097656 -4.28125 -4.300781 -4.253906 -4.46875 -4.203125 C -4.644531 -4.148438 -4.78125 -4.070312 -4.875 -3.96875 C -4.976562 -3.863281 -5.054688 -3.734375 -5.109375 -3.578125 C -5.160156 -3.429688 -5.1875 -3.25 -5.1875 -3.03125 C -5.1875 -2.84375 -5.171875 -2.671875 -5.140625 -2.515625 C -5.117188 -2.367188 -5.070312 -2.238281 -5 -2.125 C -4.925781 -2.019531 -4.828125 -1.929688 -4.703125 -1.859375 C -4.585938 -1.796875 -4.441406 -1.753906 -4.265625 -1.734375 L -4.34375 -0.71875 C -4.570312 -0.757812 -4.78125 -0.828125 -4.96875 -0.921875 C -5.164062 -1.023438 -5.332031 -1.171875 -5.46875 -1.359375 C -5.613281 -1.546875 -5.722656 -1.773438 -5.796875 -2.046875 C -5.878906 -2.328125 -5.921875 -2.664062 -5.921875 -3.0625 C -5.921875 -3.789062 -5.753906 -4.335938 -5.421875 -4.703125 C -5.085938 -5.078125 -4.601562 -5.265625 -3.96875 -5.265625 L -1.46875 -5.265625 C -1.175781 -5.265625 -0.957031 -5.300781 -0.8125 -5.375 C -0.664062 -5.445312 -0.59375 -5.585938 -0.59375 -5.796875 C -0.59375 -5.847656 -0.597656 -5.898438 -0.609375 -5.953125 C -0.617188 -6.015625 -0.628906 -6.070312 -0.640625 -6.125 L -0.03125 -6.125 C 0 -6 0.0195312 -5.875 0.03125 -5.75 C 0.0390625 -5.632812 0.046875 -5.507812 0.046875 -5.375 C 0.046875 -5.1875 0.0234375 -5.023438 -0.015625 -4.890625 C -0.0664062 -4.765625 -0.140625 -4.660156 -0.234375 -4.578125 C -0.335938 -4.492188 -0.460938 -4.429688 -0.609375 -4.390625 C -0.753906 -4.347656 -0.921875 -4.320312 -1.109375 -4.3125 L -1.109375 -4.28125 C -0.921875 -4.175781 -0.75 -4.0625 -0.59375 -3.9375 C -0.445312 -3.8125 -0.320312 -3.664062 -0.21875 -3.5 C -0.113281 -3.34375 -0.0351562 -3.15625 0.015625 -2.9375 C 0.078125 -2.726562 0.109375 -2.488281 0.109375 -2.21875 Z M -0.625 -2.4375 C -0.625 -2.75 -0.675781 -3.019531 -0.78125 -3.25 C -0.894531 -3.476562 -1.039062 -3.671875 -1.21875 -3.828125 C -1.394531 -3.984375 -1.585938 -4.097656 -1.796875 -4.171875 C -2.003906 -4.242188 -2.203125 -4.28125 -2.390625 -4.28125 L -2.875 -4.28125 L -2.84375 -3.21875 C -2.84375 -2.988281 -2.828125 -2.765625 -2.796875 -2.546875 C -2.765625 -2.335938 -2.703125 -2.148438 -2.609375 -1.984375 C -2.523438 -1.828125 -2.398438 -1.703125 -2.234375 -1.609375 C -2.078125 -1.515625 -1.867188 -1.46875 -1.609375 -1.46875 C -1.296875 -1.46875 -1.050781 -1.550781 -0.875 -1.71875 C -0.707031 -1.882812 -0.625 -2.125 -0.625 -2.4375 Z M -0.625 -2.4375 \"/>\n",
       "</symbol>\n",
       "<symbol overflow=\"visible\" id=\"glyph2-6\">\n",
       "<path style=\"stroke:none;\" d=\"M 0 -3.25 C 0.351562 -3.113281 0.671875 -2.972656 0.953125 -2.828125 C 1.234375 -2.679688 1.472656 -2.519531 1.671875 -2.34375 C 1.867188 -2.175781 2.019531 -1.984375 2.125 -1.765625 C 2.226562 -1.546875 2.28125 -1.300781 2.28125 -1.03125 C 2.28125 -0.90625 2.273438 -0.789062 2.265625 -0.6875 C 2.265625 -0.582031 2.25 -0.472656 2.21875 -0.359375 L 1.5 -0.359375 C 1.507812 -0.429688 1.515625 -0.507812 1.515625 -0.59375 C 1.523438 -0.675781 1.53125 -0.75 1.53125 -0.8125 C 1.53125 -1.09375 1.421875 -1.351562 1.203125 -1.59375 C 0.992188 -1.84375 0.660156 -2.054688 0.203125 -2.234375 L -0.03125 -2.328125 L -5.8125 -0.03125 L -5.8125 -1.0625 L -2.59375 -2.28125 C -2.5 -2.320312 -2.367188 -2.367188 -2.203125 -2.421875 C -2.046875 -2.472656 -1.882812 -2.523438 -1.71875 -2.578125 C -1.5625 -2.640625 -1.414062 -2.691406 -1.28125 -2.734375 C -1.15625 -2.773438 -1.078125 -2.800781 -1.046875 -2.8125 C -1.085938 -2.820312 -1.164062 -2.847656 -1.28125 -2.890625 C -1.40625 -2.929688 -1.535156 -2.976562 -1.671875 -3.03125 C -1.816406 -3.082031 -1.960938 -3.132812 -2.109375 -3.1875 C -2.253906 -3.238281 -2.382812 -3.28125 -2.5 -3.3125 L -5.8125 -4.453125 L -5.8125 -5.484375 Z M 0 -3.25 \"/>\n",
       "</symbol>\n",
       "</g>\n",
       "<clipPath id=\"clip1\">\n",
       "  <path d=\"M 40.152344 5.480469 L 426.523438 5.480469 L 426.523438 328.851562 L 40.152344 328.851562 Z M 40.152344 5.480469 \"/>\n",
       "</clipPath>\n",
       "<clipPath id=\"clip2\">\n",
       "  <path d=\"M 40.152344 300 L 426.523438 300 L 426.523438 301 L 40.152344 301 Z M 40.152344 300 \"/>\n",
       "</clipPath>\n",
       "<clipPath id=\"clip3\">\n",
       "  <path d=\"M 40.152344 175 L 426.523438 175 L 426.523438 176 L 40.152344 176 Z M 40.152344 175 \"/>\n",
       "</clipPath>\n",
       "<clipPath id=\"clip4\">\n",
       "  <path d=\"M 40.152344 50 L 426.523438 50 L 426.523438 51 L 40.152344 51 Z M 40.152344 50 \"/>\n",
       "</clipPath>\n",
       "<clipPath id=\"clip5\">\n",
       "  <path d=\"M 115 5.480469 L 117 5.480469 L 117 328.851562 L 115 328.851562 Z M 115 5.480469 \"/>\n",
       "</clipPath>\n",
       "<clipPath id=\"clip6\">\n",
       "  <path d=\"M 233 5.480469 L 234 5.480469 L 234 328.851562 L 233 328.851562 Z M 233 5.480469 \"/>\n",
       "</clipPath>\n",
       "<clipPath id=\"clip7\">\n",
       "  <path d=\"M 350 5.480469 L 351 5.480469 L 351 328.851562 L 350 328.851562 Z M 350 5.480469 \"/>\n",
       "</clipPath>\n",
       "<clipPath id=\"clip8\">\n",
       "  <path d=\"M 40.152344 237 L 426.523438 237 L 426.523438 239 L 40.152344 239 Z M 40.152344 237 \"/>\n",
       "</clipPath>\n",
       "<clipPath id=\"clip9\">\n",
       "  <path d=\"M 40.152344 112 L 426.523438 112 L 426.523438 114 L 40.152344 114 Z M 40.152344 112 \"/>\n",
       "</clipPath>\n",
       "<clipPath id=\"clip10\">\n",
       "  <path d=\"M 57 5.480469 L 59 5.480469 L 59 328.851562 L 57 328.851562 Z M 57 5.480469 \"/>\n",
       "</clipPath>\n",
       "<clipPath id=\"clip11\">\n",
       "  <path d=\"M 174 5.480469 L 176 5.480469 L 176 328.851562 L 174 328.851562 Z M 174 5.480469 \"/>\n",
       "</clipPath>\n",
       "<clipPath id=\"clip12\">\n",
       "  <path d=\"M 291 5.480469 L 293 5.480469 L 293 328.851562 L 291 328.851562 Z M 291 5.480469 \"/>\n",
       "</clipPath>\n",
       "<clipPath id=\"clip13\">\n",
       "  <path d=\"M 408 5.480469 L 410 5.480469 L 410 328.851562 L 408 328.851562 Z M 408 5.480469 \"/>\n",
       "</clipPath>\n",
       "</defs>\n",
       "<g id=\"surface661\">\n",
       "<rect x=\"0\" y=\"0\" width=\"432\" height=\"360\" style=\"fill:rgb(100%,100%,100%);fill-opacity:1;stroke:none;\"/>\n",
       "<rect x=\"0\" y=\"0\" width=\"432\" height=\"360\" style=\"fill:rgb(100%,100%,100%);fill-opacity:1;stroke:none;\"/>\n",
       "<path style=\"fill:none;stroke-width:1.066978;stroke-linecap:round;stroke-linejoin:round;stroke:rgb(100%,100%,100%);stroke-opacity:1;stroke-miterlimit:10;\" d=\"M 0 360 L 432 360 L 432 0 L 0 0 Z M 0 360 \"/>\n",
       "<g clip-path=\"url(#clip1)\" clip-rule=\"nonzero\">\n",
       "<path style=\" stroke:none;fill-rule:nonzero;fill:rgb(92.156863%,92.156863%,92.156863%);fill-opacity:1;\" d=\"M 40.152344 328.847656 L 426.523438 328.847656 L 426.523438 5.476562 L 40.152344 5.476562 Z M 40.152344 328.847656 \"/>\n",
       "</g>\n",
       "<g clip-path=\"url(#clip2)\" clip-rule=\"nonzero\">\n",
       "<path style=\"fill:none;stroke-width:0.533489;stroke-linecap:butt;stroke-linejoin:round;stroke:rgb(100%,100%,100%);stroke-opacity:1;stroke-miterlimit:10;\" d=\"M 40.152344 300.347656 L 426.519531 300.347656 \"/>\n",
       "</g>\n",
       "<g clip-path=\"url(#clip3)\" clip-rule=\"nonzero\">\n",
       "<path style=\"fill:none;stroke-width:0.533489;stroke-linecap:butt;stroke-linejoin:round;stroke:rgb(100%,100%,100%);stroke-opacity:1;stroke-miterlimit:10;\" d=\"M 40.152344 175.371094 L 426.519531 175.371094 \"/>\n",
       "</g>\n",
       "<g clip-path=\"url(#clip4)\" clip-rule=\"nonzero\">\n",
       "<path style=\"fill:none;stroke-width:0.533489;stroke-linecap:butt;stroke-linejoin:round;stroke:rgb(100%,100%,100%);stroke-opacity:1;stroke-miterlimit:10;\" d=\"M 40.152344 50.390625 L 426.519531 50.390625 \"/>\n",
       "</g>\n",
       "<g clip-path=\"url(#clip5)\" clip-rule=\"nonzero\">\n",
       "<path style=\"fill:none;stroke-width:0.533489;stroke-linecap:butt;stroke-linejoin:round;stroke:rgb(100%,100%,100%);stroke-opacity:1;stroke-miterlimit:10;\" d=\"M 116.253906 328.847656 L 116.253906 5.480469 \"/>\n",
       "</g>\n",
       "<g clip-path=\"url(#clip6)\" clip-rule=\"nonzero\">\n",
       "<path style=\"fill:none;stroke-width:0.533489;stroke-linecap:butt;stroke-linejoin:round;stroke:rgb(100%,100%,100%);stroke-opacity:1;stroke-miterlimit:10;\" d=\"M 233.335938 328.847656 L 233.335938 5.480469 \"/>\n",
       "</g>\n",
       "<g clip-path=\"url(#clip7)\" clip-rule=\"nonzero\">\n",
       "<path style=\"fill:none;stroke-width:0.533489;stroke-linecap:butt;stroke-linejoin:round;stroke:rgb(100%,100%,100%);stroke-opacity:1;stroke-miterlimit:10;\" d=\"M 350.417969 328.847656 L 350.417969 5.480469 \"/>\n",
       "</g>\n",
       "<g clip-path=\"url(#clip8)\" clip-rule=\"nonzero\">\n",
       "<path style=\"fill:none;stroke-width:1.066978;stroke-linecap:butt;stroke-linejoin:round;stroke:rgb(100%,100%,100%);stroke-opacity:1;stroke-miterlimit:10;\" d=\"M 40.152344 237.859375 L 426.519531 237.859375 \"/>\n",
       "</g>\n",
       "<g clip-path=\"url(#clip9)\" clip-rule=\"nonzero\">\n",
       "<path style=\"fill:none;stroke-width:1.066978;stroke-linecap:butt;stroke-linejoin:round;stroke:rgb(100%,100%,100%);stroke-opacity:1;stroke-miterlimit:10;\" d=\"M 40.152344 112.878906 L 426.519531 112.878906 \"/>\n",
       "</g>\n",
       "<g clip-path=\"url(#clip10)\" clip-rule=\"nonzero\">\n",
       "<path style=\"fill:none;stroke-width:1.066978;stroke-linecap:butt;stroke-linejoin:round;stroke:rgb(100%,100%,100%);stroke-opacity:1;stroke-miterlimit:10;\" d=\"M 57.714844 328.847656 L 57.714844 5.480469 \"/>\n",
       "</g>\n",
       "<g clip-path=\"url(#clip11)\" clip-rule=\"nonzero\">\n",
       "<path style=\"fill:none;stroke-width:1.066978;stroke-linecap:butt;stroke-linejoin:round;stroke:rgb(100%,100%,100%);stroke-opacity:1;stroke-miterlimit:10;\" d=\"M 174.792969 328.847656 L 174.792969 5.480469 \"/>\n",
       "</g>\n",
       "<g clip-path=\"url(#clip12)\" clip-rule=\"nonzero\">\n",
       "<path style=\"fill:none;stroke-width:1.066978;stroke-linecap:butt;stroke-linejoin:round;stroke:rgb(100%,100%,100%);stroke-opacity:1;stroke-miterlimit:10;\" d=\"M 291.875 328.847656 L 291.875 5.480469 \"/>\n",
       "</g>\n",
       "<g clip-path=\"url(#clip13)\" clip-rule=\"nonzero\">\n",
       "<path style=\"fill:none;stroke-width:1.066978;stroke-linecap:butt;stroke-linejoin:round;stroke:rgb(100%,100%,100%);stroke-opacity:1;stroke-miterlimit:10;\" d=\"M 408.957031 328.847656 L 408.957031 5.480469 \"/>\n",
       "</g>\n",
       "<path style=\"fill-rule:nonzero;fill:rgb(0%,0%,0%);fill-opacity:1;stroke-width:0.708661;stroke-linecap:round;stroke-linejoin:round;stroke:rgb(0%,0%,0%);stroke-opacity:1;stroke-miterlimit:10;\" d=\"M 59.667969 314.152344 C 59.667969 316.757812 55.757812 316.757812 55.757812 314.152344 C 55.757812 311.542969 59.667969 311.542969 59.667969 314.152344 \"/>\n",
       "<path style=\"fill-rule:nonzero;fill:rgb(0%,0%,0%);fill-opacity:1;stroke-width:0.708661;stroke-linecap:round;stroke-linejoin:round;stroke:rgb(0%,0%,0%);stroke-opacity:1;stroke-miterlimit:10;\" d=\"M 118.207031 145.203125 C 118.207031 147.8125 114.300781 147.8125 114.300781 145.203125 C 114.300781 142.597656 118.207031 142.597656 118.207031 145.203125 \"/>\n",
       "<path style=\"fill-rule:nonzero;fill:rgb(0%,0%,0%);fill-opacity:1;stroke-width:0.708661;stroke-linecap:round;stroke-linejoin:round;stroke:rgb(0%,0%,0%);stroke-opacity:1;stroke-miterlimit:10;\" d=\"M 176.75 122.46875 C 176.75 125.074219 172.839844 125.074219 172.839844 122.46875 C 172.839844 119.863281 176.75 119.863281 176.75 122.46875 \"/>\n",
       "<path style=\"fill-rule:nonzero;fill:rgb(0%,0%,0%);fill-opacity:1;stroke-width:0.708661;stroke-linecap:round;stroke-linejoin:round;stroke:rgb(0%,0%,0%);stroke-opacity:1;stroke-miterlimit:10;\" d=\"M 235.289062 98.710938 C 235.289062 101.320312 231.378906 101.320312 231.378906 98.710938 C 231.378906 96.105469 235.289062 96.105469 235.289062 98.710938 \"/>\n",
       "<path style=\"fill-rule:nonzero;fill:rgb(0%,0%,0%);fill-opacity:1;stroke-width:0.708661;stroke-linecap:round;stroke-linejoin:round;stroke:rgb(0%,0%,0%);stroke-opacity:1;stroke-miterlimit:10;\" d=\"M 293.832031 54.023438 C 293.832031 56.628906 289.921875 56.628906 289.921875 54.023438 C 289.921875 51.417969 293.832031 51.417969 293.832031 54.023438 \"/>\n",
       "<path style=\"fill-rule:nonzero;fill:rgb(0%,0%,0%);fill-opacity:1;stroke-width:0.708661;stroke-linecap:round;stroke-linejoin:round;stroke:rgb(0%,0%,0%);stroke-opacity:1;stroke-miterlimit:10;\" d=\"M 352.371094 87.855469 C 352.371094 90.460938 348.460938 90.460938 348.460938 87.855469 C 348.460938 85.25 352.371094 85.25 352.371094 87.855469 \"/>\n",
       "<path style=\"fill-rule:nonzero;fill:rgb(0%,0%,0%);fill-opacity:1;stroke-width:0.708661;stroke-linecap:round;stroke-linejoin:round;stroke:rgb(0%,0%,0%);stroke-opacity:1;stroke-miterlimit:10;\" d=\"M 410.914062 20.179688 C 410.914062 22.785156 407.003906 22.785156 407.003906 20.179688 C 407.003906 17.570312 410.914062 17.570312 410.914062 20.179688 \"/>\n",
       "<path style=\"fill:none;stroke-width:1.066978;stroke-linecap:butt;stroke-linejoin:round;stroke:rgb(0%,0%,0%);stroke-opacity:1;stroke-miterlimit:10;\" d=\"M 57.714844 314.152344 L 116.253906 145.203125 L 174.792969 122.46875 L 233.335938 98.710938 L 291.875 54.023438 L 350.417969 87.855469 L 408.957031 20.179688 \"/>\n",
       "<g style=\"fill:rgb(30.196078%,30.196078%,30.196078%);fill-opacity:1;\">\n",
       "  <use xlink:href=\"#glyph0-1\" x=\"18.21875\" y=\"241.325195\"/>\n",
       "  <use xlink:href=\"#glyph0-2\" x=\"23.21875\" y=\"241.325195\"/>\n",
       "  <use xlink:href=\"#glyph0-3\" x=\"25.21875\" y=\"241.325195\"/>\n",
       "  <use xlink:href=\"#glyph0-1\" x=\"30.21875\" y=\"241.325195\"/>\n",
       "</g>\n",
       "<g style=\"fill:rgb(30.196078%,30.196078%,30.196078%);fill-opacity:1;\">\n",
       "  <use xlink:href=\"#glyph0-1\" x=\"18.21875\" y=\"116.344727\"/>\n",
       "  <use xlink:href=\"#glyph0-2\" x=\"23.21875\" y=\"116.344727\"/>\n",
       "  <use xlink:href=\"#glyph0-3\" x=\"25.21875\" y=\"116.344727\"/>\n",
       "  <use xlink:href=\"#glyph0-4\" x=\"30.21875\" y=\"116.344727\"/>\n",
       "</g>\n",
       "<path style=\"fill:none;stroke-width:1.066978;stroke-linecap:butt;stroke-linejoin:round;stroke:rgb(20%,20%,20%);stroke-opacity:1;stroke-miterlimit:10;\" d=\"M 37.410156 237.859375 L 40.152344 237.859375 \"/>\n",
       "<path style=\"fill:none;stroke-width:1.066978;stroke-linecap:butt;stroke-linejoin:round;stroke:rgb(20%,20%,20%);stroke-opacity:1;stroke-miterlimit:10;\" d=\"M 37.410156 112.878906 L 40.152344 112.878906 \"/>\n",
       "<path style=\"fill:none;stroke-width:1.066978;stroke-linecap:butt;stroke-linejoin:round;stroke:rgb(20%,20%,20%);stroke-opacity:1;stroke-miterlimit:10;\" d=\"M 57.714844 331.589844 L 57.714844 328.847656 \"/>\n",
       "<path style=\"fill:none;stroke-width:1.066978;stroke-linecap:butt;stroke-linejoin:round;stroke:rgb(20%,20%,20%);stroke-opacity:1;stroke-miterlimit:10;\" d=\"M 174.792969 331.589844 L 174.792969 328.847656 \"/>\n",
       "<path style=\"fill:none;stroke-width:1.066978;stroke-linecap:butt;stroke-linejoin:round;stroke:rgb(20%,20%,20%);stroke-opacity:1;stroke-miterlimit:10;\" d=\"M 291.875 331.589844 L 291.875 328.847656 \"/>\n",
       "<path style=\"fill:none;stroke-width:1.066978;stroke-linecap:butt;stroke-linejoin:round;stroke:rgb(20%,20%,20%);stroke-opacity:1;stroke-miterlimit:10;\" d=\"M 408.957031 331.589844 L 408.957031 328.847656 \"/>\n",
       "<g style=\"fill:rgb(30.196078%,30.196078%,30.196078%);fill-opacity:1;\">\n",
       "  <use xlink:href=\"#glyph0-5\" x=\"55.214844\" y=\"340.74707\"/>\n",
       "</g>\n",
       "<g style=\"fill:rgb(30.196078%,30.196078%,30.196078%);fill-opacity:1;\">\n",
       "  <use xlink:href=\"#glyph0-3\" x=\"172.292969\" y=\"340.74707\"/>\n",
       "</g>\n",
       "<g style=\"fill:rgb(30.196078%,30.196078%,30.196078%);fill-opacity:1;\">\n",
       "  <use xlink:href=\"#glyph0-6\" x=\"289.375\" y=\"340.74707\"/>\n",
       "</g>\n",
       "<g style=\"fill:rgb(30.196078%,30.196078%,30.196078%);fill-opacity:1;\">\n",
       "  <use xlink:href=\"#glyph0-7\" x=\"406.457031\" y=\"340.74707\"/>\n",
       "</g>\n",
       "<g style=\"fill:rgb(0%,0%,0%);fill-opacity:1;\">\n",
       "  <use xlink:href=\"#glyph1-1\" x=\"198.835938\" y=\"352.477539\"/>\n",
       "  <use xlink:href=\"#glyph1-2\" x=\"206.835938\" y=\"352.477539\"/>\n",
       "  <use xlink:href=\"#glyph1-3\" x=\"212.835938\" y=\"352.477539\"/>\n",
       "  <use xlink:href=\"#glyph1-4\" x=\"221.835938\" y=\"352.477539\"/>\n",
       "  <use xlink:href=\"#glyph1-5\" x=\"227.835938\" y=\"352.477539\"/>\n",
       "  <use xlink:href=\"#glyph1-6\" x=\"233.835938\" y=\"352.477539\"/>\n",
       "  <use xlink:href=\"#glyph1-7\" x=\"237.835938\" y=\"352.477539\"/>\n",
       "  <use xlink:href=\"#glyph1-8\" x=\"240.835938\" y=\"352.477539\"/>\n",
       "  <use xlink:href=\"#glyph1-9\" x=\"246.835938\" y=\"352.477539\"/>\n",
       "  <use xlink:href=\"#glyph1-7\" x=\"249.835938\" y=\"352.477539\"/>\n",
       "  <use xlink:href=\"#glyph1-10\" x=\"252.835938\" y=\"352.477539\"/>\n",
       "  <use xlink:href=\"#glyph1-11\" x=\"259.835938\" y=\"352.477539\"/>\n",
       "  <use xlink:href=\"#glyph1-12\" x=\"261.835938\" y=\"352.477539\"/>\n",
       "</g>\n",
       "<g style=\"fill:rgb(0%,0%,0%);fill-opacity:1;\">\n",
       "  <use xlink:href=\"#glyph2-1\" x=\"13.438477\" y=\"190.664062\"/>\n",
       "  <use xlink:href=\"#glyph2-2\" x=\"13.438477\" y=\"183.664062\"/>\n",
       "  <use xlink:href=\"#glyph2-2\" x=\"13.438477\" y=\"177.664062\"/>\n",
       "  <use xlink:href=\"#glyph2-3\" x=\"13.438477\" y=\"171.664062\"/>\n",
       "  <use xlink:href=\"#glyph2-4\" x=\"13.438477\" y=\"165.664062\"/>\n",
       "  <use xlink:href=\"#glyph2-5\" x=\"13.438477\" y=\"161.664062\"/>\n",
       "  <use xlink:href=\"#glyph2-2\" x=\"13.438477\" y=\"155.664062\"/>\n",
       "  <use xlink:href=\"#glyph2-6\" x=\"13.438477\" y=\"149.664062\"/>\n",
       "</g>\n",
       "</g>\n",
       "</svg>\n"
      ],
      "text/plain": [
       "plot without title"
      ]
     },
     "metadata": {
      "application/pdf": {
       "height": 300,
       "width": 360
      },
      "image/jpeg": {
       "height": 300,
       "width": 360
      },
      "image/png": {
       "height": 300,
       "width": 360
      },
      "image/svg+xml": {
       "height": 300,
       "isolated": true,
       "width": 360
      }
     },
     "output_type": "display_data"
    }
   ],
   "source": [
    "options(repr.plot.height = 5, repr.plot.width = 6)\n",
    "# This top part is to make the graph fit the screen better\n",
    "\n",
    "cross_val_plot <- accuracy_data |>\n",
    "    ggplot(aes (x = neighbors, y = mean))+\n",
    "    geom_point()+\n",
    "    geom_line(aes(x = neighbors, y = mean))+\n",
    "    xlab(\"Number of K's\")+\n",
    "    ylab (\"Accuracy\")\n",
    "\n",
    "cross_val_plot"
   ]
  },
  {
   "cell_type": "markdown",
   "id": "f8175e32-f85d-40ec-b645-ab76fb14c37f",
   "metadata": {},
   "source": [
    "Looking at this graph, we see that the best number of neighbors is 6.\n",
    "\n",
    "Therefore, we will proceed with this project using 6 neighbors for classification.\n"
   ]
  },
  {
   "cell_type": "code",
   "execution_count": 131,
   "id": "8fb3e354-9065-40c4-b112-ee8937f8d69c",
   "metadata": {},
   "outputs": [],
   "source": [
    "set.seed(727)\n",
    "\n",
    "\n",
    "knn_spec <- nearest_neighbor(weight_func = \"rectangular\", neighbors = 6) |>\n",
    "       set_engine(\"kknn\") |>\n",
    "       set_mode(\"classification\")\n",
    "\n",
    "heart_fit <- workflow() |>\n",
    "       add_recipe(heart_recipe) |>\n",
    "       add_model(knn_spec) |>\n",
    "       fit(data = heart_train)\n",
    "\n",
    "\n",
    "\n",
    "\n"
   ]
  },
  {
   "cell_type": "markdown",
   "id": "ab325fc4-dd09-4ce7-a785-851a714f9640",
   "metadata": {},
   "source": [
    "Now we can predict! We will use the predict function to generate predictions for all of the observations in our test set using the model we trained from our training set."
   ]
  },
  {
   "cell_type": "code",
   "execution_count": 132,
   "id": "41e5e368-08d5-44fc-af56-6051ed8b0453",
   "metadata": {},
   "outputs": [
    {
     "data": {
      "text/html": [
       "<table class=\"dataframe\">\n",
       "<caption>A tibble: 75 × 15</caption>\n",
       "<thead>\n",
       "\t<tr><th scope=col>.pred_class</th><th scope=col>age</th><th scope=col>sex</th><th scope=col>cp</th><th scope=col>trestbps</th><th scope=col>chol</th><th scope=col>fbs</th><th scope=col>restecg</th><th scope=col>thalach</th><th scope=col>exang</th><th scope=col>oldpeak</th><th scope=col>slope</th><th scope=col>ca</th><th scope=col>thal</th><th scope=col>num</th></tr>\n",
       "\t<tr><th scope=col>&lt;fct&gt;</th><th scope=col>&lt;dbl&gt;</th><th scope=col>&lt;fct&gt;</th><th scope=col>&lt;fct&gt;</th><th scope=col>&lt;dbl&gt;</th><th scope=col>&lt;dbl&gt;</th><th scope=col>&lt;fct&gt;</th><th scope=col>&lt;fct&gt;</th><th scope=col>&lt;dbl&gt;</th><th scope=col>&lt;fct&gt;</th><th scope=col>&lt;dbl&gt;</th><th scope=col>&lt;dbl&gt;</th><th scope=col>&lt;chr&gt;</th><th scope=col>&lt;chr&gt;</th><th scope=col>&lt;fct&gt;</th></tr>\n",
       "</thead>\n",
       "<tbody>\n",
       "\t<tr><td>0</td><td>67</td><td>1</td><td>4</td><td>120</td><td>229</td><td>0</td><td>2</td><td>129</td><td>1</td><td>2.6</td><td>2</td><td>2.0</td><td>7.0</td><td>1</td></tr>\n",
       "\t<tr><td>0</td><td>37</td><td>1</td><td>3</td><td>130</td><td>250</td><td>0</td><td>0</td><td>187</td><td>0</td><td>3.5</td><td>3</td><td>0.0</td><td>3.0</td><td>0</td></tr>\n",
       "\t<tr><td>0</td><td>41</td><td>0</td><td>2</td><td>130</td><td>204</td><td>0</td><td>2</td><td>172</td><td>0</td><td>1.4</td><td>1</td><td>0.0</td><td>3.0</td><td>0</td></tr>\n",
       "\t<tr><td>⋮</td><td>⋮</td><td>⋮</td><td>⋮</td><td>⋮</td><td>⋮</td><td>⋮</td><td>⋮</td><td>⋮</td><td>⋮</td><td>⋮</td><td>⋮</td><td>⋮</td><td>⋮</td><td>⋮</td></tr>\n",
       "\t<tr><td>1</td><td>56</td><td>1</td><td>2</td><td>130</td><td>221</td><td>0</td><td>2</td><td>163</td><td>0</td><td>0.0</td><td>1</td><td>0.0</td><td>7.0</td><td>0</td></tr>\n",
       "\t<tr><td>4</td><td>63</td><td>1</td><td>4</td><td>140</td><td>187</td><td>0</td><td>2</td><td>144</td><td>1</td><td>4.0</td><td>1</td><td>2.0</td><td>7.0</td><td>2</td></tr>\n",
       "\t<tr><td>4</td><td>68</td><td>1</td><td>4</td><td>144</td><td>193</td><td>1</td><td>0</td><td>141</td><td>0</td><td>3.4</td><td>2</td><td>2.0</td><td>7.0</td><td>2</td></tr>\n",
       "</tbody>\n",
       "</table>\n"
      ],
      "text/latex": [
       "A tibble: 75 × 15\n",
       "\\begin{tabular}{lllllllllllllll}\n",
       " .pred\\_class & age & sex & cp & trestbps & chol & fbs & restecg & thalach & exang & oldpeak & slope & ca & thal & num\\\\\n",
       " <fct> & <dbl> & <fct> & <fct> & <dbl> & <dbl> & <fct> & <fct> & <dbl> & <fct> & <dbl> & <dbl> & <chr> & <chr> & <fct>\\\\\n",
       "\\hline\n",
       "\t 0 & 67 & 1 & 4 & 120 & 229 & 0 & 2 & 129 & 1 & 2.6 & 2 & 2.0 & 7.0 & 1\\\\\n",
       "\t 0 & 37 & 1 & 3 & 130 & 250 & 0 & 0 & 187 & 0 & 3.5 & 3 & 0.0 & 3.0 & 0\\\\\n",
       "\t 0 & 41 & 0 & 2 & 130 & 204 & 0 & 2 & 172 & 0 & 1.4 & 1 & 0.0 & 3.0 & 0\\\\\n",
       "\t ⋮ & ⋮ & ⋮ & ⋮ & ⋮ & ⋮ & ⋮ & ⋮ & ⋮ & ⋮ & ⋮ & ⋮ & ⋮ & ⋮ & ⋮\\\\\n",
       "\t 1 & 56 & 1 & 2 & 130 & 221 & 0 & 2 & 163 & 0 & 0.0 & 1 & 0.0 & 7.0 & 0\\\\\n",
       "\t 4 & 63 & 1 & 4 & 140 & 187 & 0 & 2 & 144 & 1 & 4.0 & 1 & 2.0 & 7.0 & 2\\\\\n",
       "\t 4 & 68 & 1 & 4 & 144 & 193 & 1 & 0 & 141 & 0 & 3.4 & 2 & 2.0 & 7.0 & 2\\\\\n",
       "\\end{tabular}\n"
      ],
      "text/markdown": [
       "\n",
       "A tibble: 75 × 15\n",
       "\n",
       "| .pred_class &lt;fct&gt; | age &lt;dbl&gt; | sex &lt;fct&gt; | cp &lt;fct&gt; | trestbps &lt;dbl&gt; | chol &lt;dbl&gt; | fbs &lt;fct&gt; | restecg &lt;fct&gt; | thalach &lt;dbl&gt; | exang &lt;fct&gt; | oldpeak &lt;dbl&gt; | slope &lt;dbl&gt; | ca &lt;chr&gt; | thal &lt;chr&gt; | num &lt;fct&gt; |\n",
       "|---|---|---|---|---|---|---|---|---|---|---|---|---|---|---|\n",
       "| 0 | 67 | 1 | 4 | 120 | 229 | 0 | 2 | 129 | 1 | 2.6 | 2 | 2.0 | 7.0 | 1 |\n",
       "| 0 | 37 | 1 | 3 | 130 | 250 | 0 | 0 | 187 | 0 | 3.5 | 3 | 0.0 | 3.0 | 0 |\n",
       "| 0 | 41 | 0 | 2 | 130 | 204 | 0 | 2 | 172 | 0 | 1.4 | 1 | 0.0 | 3.0 | 0 |\n",
       "| ⋮ | ⋮ | ⋮ | ⋮ | ⋮ | ⋮ | ⋮ | ⋮ | ⋮ | ⋮ | ⋮ | ⋮ | ⋮ | ⋮ | ⋮ |\n",
       "| 1 | 56 | 1 | 2 | 130 | 221 | 0 | 2 | 163 | 0 | 0.0 | 1 | 0.0 | 7.0 | 0 |\n",
       "| 4 | 63 | 1 | 4 | 140 | 187 | 0 | 2 | 144 | 1 | 4.0 | 1 | 2.0 | 7.0 | 2 |\n",
       "| 4 | 68 | 1 | 4 | 144 | 193 | 1 | 0 | 141 | 0 | 3.4 | 2 | 2.0 | 7.0 | 2 |\n",
       "\n"
      ],
      "text/plain": [
       "   .pred_class age sex cp trestbps chol fbs restecg thalach exang oldpeak slope\n",
       "1  0           67  1   4  120      229  0   2       129     1     2.6     2    \n",
       "2  0           37  1   3  130      250  0   0       187     0     3.5     3    \n",
       "3  0           41  0   2  130      204  0   2       172     0     1.4     1    \n",
       "⋮  ⋮           ⋮   ⋮   ⋮  ⋮        ⋮    ⋮   ⋮       ⋮       ⋮     ⋮       ⋮    \n",
       "73 1           56  1   2  130      221  0   2       163     0     0.0     1    \n",
       "74 4           63  1   4  140      187  0   2       144     1     4.0     1    \n",
       "75 4           68  1   4  144      193  1   0       141     0     3.4     2    \n",
       "   ca  thal num\n",
       "1  2.0 7.0  1  \n",
       "2  0.0 3.0  0  \n",
       "3  0.0 3.0  0  \n",
       "⋮  ⋮   ⋮    ⋮  \n",
       "73 0.0 7.0  0  \n",
       "74 2.0 7.0  2  \n",
       "75 2.0 7.0  2  "
      ]
     },
     "metadata": {},
     "output_type": "display_data"
    }
   ],
   "source": [
    "set.seed(727)\n",
    "heart_test_predictions <- predict(heart_fit , heart_test) |>\n",
    "       bind_cols(heart_test)\n",
    "\n",
    "\n",
    "heart_test_predictions"
   ]
  },
  {
   "cell_type": "markdown",
   "id": "3bdca7f1-efae-49da-898e-650a1cc715d4",
   "metadata": {},
   "source": [
    "To quantify whether or not this model can successfuly predict the severity of heart disease, we will use the metrics function. Understanding the quality of our model with the upcoming functions will help us answer our question of whether this dataset can be used to predict heart disease severity. "
   ]
  },
  {
   "cell_type": "code",
   "execution_count": 133,
   "id": "b02888d8-fa57-4692-8750-d24f37393a3f",
   "metadata": {},
   "outputs": [
    {
     "data": {
      "text/html": [
       "<table class=\"dataframe\">\n",
       "<caption>A tibble: 2 × 3</caption>\n",
       "<thead>\n",
       "\t<tr><th scope=col>.metric</th><th scope=col>.estimator</th><th scope=col>.estimate</th></tr>\n",
       "\t<tr><th scope=col>&lt;chr&gt;</th><th scope=col>&lt;chr&gt;</th><th scope=col>&lt;dbl&gt;</th></tr>\n",
       "</thead>\n",
       "<tbody>\n",
       "\t<tr><td>accuracy</td><td>multiclass</td><td>0.4800000</td></tr>\n",
       "\t<tr><td>kap     </td><td>multiclass</td><td>0.1005535</td></tr>\n",
       "</tbody>\n",
       "</table>\n"
      ],
      "text/latex": [
       "A tibble: 2 × 3\n",
       "\\begin{tabular}{lll}\n",
       " .metric & .estimator & .estimate\\\\\n",
       " <chr> & <chr> & <dbl>\\\\\n",
       "\\hline\n",
       "\t accuracy & multiclass & 0.4800000\\\\\n",
       "\t kap      & multiclass & 0.1005535\\\\\n",
       "\\end{tabular}\n"
      ],
      "text/markdown": [
       "\n",
       "A tibble: 2 × 3\n",
       "\n",
       "| .metric &lt;chr&gt; | .estimator &lt;chr&gt; | .estimate &lt;dbl&gt; |\n",
       "|---|---|---|\n",
       "| accuracy | multiclass | 0.4800000 |\n",
       "| kap      | multiclass | 0.1005535 |\n",
       "\n"
      ],
      "text/plain": [
       "  .metric  .estimator .estimate\n",
       "1 accuracy multiclass 0.4800000\n",
       "2 kap      multiclass 0.1005535"
      ]
     },
     "metadata": {},
     "output_type": "display_data"
    }
   ],
   "source": [
    "set.seed(727)\n",
    "heart_prediction_accuracy <- heart_test_predictions |>\n",
    "         metrics(truth = num, estimate = .pred_class)             \n",
    "\n",
    "heart_prediction_accuracy"
   ]
  },
  {
   "cell_type": "code",
   "execution_count": null,
   "id": "dc7447ce-7939-47d3-96e1-3420d052ce11",
   "metadata": {},
   "outputs": [],
   "source": []
  }
 ],
 "metadata": {
  "kernelspec": {
   "display_name": "R",
   "language": "R",
   "name": "ir"
  },
  "language_info": {
   "codemirror_mode": "r",
   "file_extension": ".r",
   "mimetype": "text/x-r-source",
   "name": "R",
   "pygments_lexer": "r",
   "version": "4.3.1"
  }
 },
 "nbformat": 4,
 "nbformat_minor": 5
}
