{
 "cells": [
  {
   "cell_type": "markdown",
   "id": "2bc34ee1-f933-4e54-aea4-238113f565b0",
   "metadata": {},
   "source": [
    "**Introduction:**\n",
    "\n",
    "Heart disease is a common cause of death in the United States. For every 5 people, 1 will suffer from this condition. Due to the ever-prevalent nature of this disease, we believe it is important to know where one currently stands at the moment. With this project, we aim to predict and classify the severity of heart conditions based upon several variables. With the provided heart disease dataset, we are able to train a model based upon 297 rows of data. \n",
    "\n",
    "(Will rewrite a bit)\n"
   ]
  },
  {
   "cell_type": "markdown",
   "id": "116c4cca-122b-4d52-8e17-ea63f1757fa3",
   "metadata": {},
   "source": [
    "**Method and Results**\n",
    "\n",
    "Before we start doing any kind of work with our data, we need to load our neccesary libraries. These libraries contain the neccesary packages that will allow us to process, mutate, and eventually for presenting our data."
   ]
  },
  {
   "cell_type": "code",
   "execution_count": 5,
   "id": "6e0b0524-968f-4756-9124-63fe1a5f3235",
   "metadata": {},
   "outputs": [
    {
     "name": "stderr",
     "output_type": "stream",
     "text": [
      "\n",
      "Attaching package: ‘dplyr’\n",
      "\n",
      "\n",
      "The following objects are masked from ‘package:stats’:\n",
      "\n",
      "    filter, lag\n",
      "\n",
      "\n",
      "The following objects are masked from ‘package:base’:\n",
      "\n",
      "    intersect, setdiff, setequal, union\n",
      "\n",
      "\n",
      "Warning message:\n",
      "“package ‘ggplot2’ was built under R version 4.3.2”\n",
      "Warning message:\n",
      "“package ‘cowplot’ was built under R version 4.3.2”\n",
      "── \u001b[1mAttaching core tidyverse packages\u001b[22m ──────────────────────── tidyverse 2.0.0 ──\n",
      "\u001b[32m✔\u001b[39m \u001b[34mlubridate\u001b[39m 1.9.2     \u001b[32m✔\u001b[39m \u001b[34mtibble   \u001b[39m 3.2.1\n",
      "\u001b[32m✔\u001b[39m \u001b[34mstringr  \u001b[39m 1.5.0     \n",
      "── \u001b[1mConflicts\u001b[22m ────────────────────────────────────────── tidyverse_conflicts() ──\n",
      "\u001b[31m✖\u001b[39m \u001b[34mdplyr\u001b[39m::\u001b[32mfilter()\u001b[39m    masks \u001b[34mstats\u001b[39m::filter()\n",
      "\u001b[31m✖\u001b[39m \u001b[34mdplyr\u001b[39m::\u001b[32mlag()\u001b[39m       masks \u001b[34mstats\u001b[39m::lag()\n",
      "\u001b[31m✖\u001b[39m \u001b[34mlubridate\u001b[39m::\u001b[32mstamp()\u001b[39m masks \u001b[34mcowplot\u001b[39m::stamp()\n",
      "\u001b[36mℹ\u001b[39m Use the conflicted package (\u001b[3m\u001b[34m<http://conflicted.r-lib.org/>\u001b[39m\u001b[23m) to force all conflicts to become errors\n",
      "── \u001b[1mAttaching packages\u001b[22m ────────────────────────────────────── tidymodels 1.1.1 ──\n",
      "\n",
      "\u001b[32m✔\u001b[39m \u001b[34mbroom       \u001b[39m 1.0.5     \u001b[32m✔\u001b[39m \u001b[34mrsample     \u001b[39m 1.2.0\n",
      "\u001b[32m✔\u001b[39m \u001b[34mdials       \u001b[39m 1.2.0     \u001b[32m✔\u001b[39m \u001b[34mtune        \u001b[39m 1.1.2\n",
      "\u001b[32m✔\u001b[39m \u001b[34minfer       \u001b[39m 1.0.5     \u001b[32m✔\u001b[39m \u001b[34mworkflows   \u001b[39m 1.1.3\n",
      "\u001b[32m✔\u001b[39m \u001b[34mmodeldata   \u001b[39m 1.2.0     \u001b[32m✔\u001b[39m \u001b[34mworkflowsets\u001b[39m 1.0.1\n",
      "\u001b[32m✔\u001b[39m \u001b[34mparsnip     \u001b[39m 1.1.1     \u001b[32m✔\u001b[39m \u001b[34myardstick   \u001b[39m 1.2.0\n",
      "\u001b[32m✔\u001b[39m \u001b[34mrecipes     \u001b[39m 1.0.8     \n",
      "\n",
      "── \u001b[1mConflicts\u001b[22m ───────────────────────────────────────── tidymodels_conflicts() ──\n",
      "\u001b[31m✖\u001b[39m \u001b[34mscales\u001b[39m::\u001b[32mdiscard()\u001b[39m masks \u001b[34mpurrr\u001b[39m::discard()\n",
      "\u001b[31m✖\u001b[39m \u001b[34mdplyr\u001b[39m::\u001b[32mfilter()\u001b[39m   masks \u001b[34mstats\u001b[39m::filter()\n",
      "\u001b[31m✖\u001b[39m \u001b[34mrecipes\u001b[39m::\u001b[32mfixed()\u001b[39m  masks \u001b[34mstringr\u001b[39m::fixed()\n",
      "\u001b[31m✖\u001b[39m \u001b[34mdplyr\u001b[39m::\u001b[32mlag()\u001b[39m      masks \u001b[34mstats\u001b[39m::lag()\n",
      "\u001b[31m✖\u001b[39m \u001b[34myardstick\u001b[39m::\u001b[32mspec()\u001b[39m masks \u001b[34mreadr\u001b[39m::spec()\n",
      "\u001b[31m✖\u001b[39m \u001b[34mrecipes\u001b[39m::\u001b[32mstep()\u001b[39m   masks \u001b[34mstats\u001b[39m::step()\n",
      "\u001b[34m•\u001b[39m Dig deeper into tidy modeling with R at \u001b[32mhttps://www.tmwr.org\u001b[39m\n",
      "\n",
      "\n",
      "Attaching package: ‘gridExtra’\n",
      "\n",
      "\n",
      "The following object is masked from ‘package:dplyr’:\n",
      "\n",
      "    combine\n",
      "\n",
      "\n"
     ]
    }
   ],
   "source": [
    "library(dplyr)\n",
    "library(tidyr) #Loading all libraries \n",
    "library(forcats)\n",
    "library(purrr)\n",
    "library(readr)\n",
    "library(ggplot2)\n",
    "library(cowplot)\n",
    "library(repr)\n",
    "library(tidyverse)\n",
    "library(tidymodels)\n",
    "library(gridExtra)"
   ]
  },
  {
   "cell_type": "markdown",
   "id": "12486778-2c05-4430-84cf-766bb152a01a",
   "metadata": {},
   "source": [
    "Due to the original dataset being packaged in a \".zip\" file, we needed to extract the package locally first. For this project, we decided on the Cleveland dataset, as it best represents our capabilities and skills. Then, we uploaded our selected dataset onto Github, which would allow us to download the document onto this notebook. We used the URL containing the raw document for our purposes. In combination with the download.file command, we were able to load the dataset from the web\n"
   ]
  },
  {
   "cell_type": "code",
   "execution_count": 6,
   "id": "026384b9-0304-4d74-be71-e97dd7ff9223",
   "metadata": {},
   "outputs": [],
   "source": [
    "download.file(\"https://raw.githubusercontent.com/000557A/WebDataSet/main/processed.cleveland.data\",\n",
    "              \"Data/unprocessed.cleveland.data\")"
   ]
  },
  {
   "cell_type": "markdown",
   "id": "3c2c134b-354b-4985-a632-da367ea5af19",
   "metadata": {},
   "source": [
    "As indicated by the UC Irvine Machine Learning Repository (Where this dataset originated from), we know that this dataset has some missing columns. In the table included on the website, we see that the \"ca\" and \"thal\" variables contain missing values. A quick glance at our dataset allowed us to see that the placeholder values were indicated with a \"?\".\n",
    "\n",
    "Another aspect of this dataset is the missing column names. We retrieved the list of variables form the UC Irvine Repository, and added them back to our dataset.\n",
    "\n",
    "We have also decided to mutate each variable as a factor. This would allow us to ... (NOT FINISHED)"
   ]
  },
  {
   "cell_type": "code",
   "execution_count": 7,
   "id": "9e993498-dec7-4bb3-983c-505eadf04677",
   "metadata": {},
   "outputs": [
    {
     "name": "stderr",
     "output_type": "stream",
     "text": [
      "\u001b[1mRows: \u001b[22m\u001b[34m303\u001b[39m \u001b[1mColumns: \u001b[22m\u001b[34m14\u001b[39m\n",
      "\u001b[36m──\u001b[39m \u001b[1mColumn specification\u001b[22m \u001b[36m────────────────────────────────────────────────────────\u001b[39m\n",
      "\u001b[1mDelimiter:\u001b[22m \",\"\n",
      "\u001b[31mchr\u001b[39m  (2): ca, thal\n",
      "\u001b[32mdbl\u001b[39m (12): age, sex, cp, trestbps, chol, fbs, restecg, thalach, exang, oldpea...\n",
      "\n",
      "\u001b[36mℹ\u001b[39m Use `spec()` to retrieve the full column specification for this data.\n",
      "\u001b[36mℹ\u001b[39m Specify the column types or set `show_col_types = FALSE` to quiet this message.\n"
     ]
    }
   ],
   "source": [
    "heart_data <- read_delim(\"Data/processed.cleveland.data\", delim = \",\",\n",
    "          col_names = c(\"age\", \"sex\", \"cp\", \"trestbps\", \"chol\", \"fbs\", \"restecg\", \"thalach\", \"exang\", \"oldpeak\" , \"slope\", \"ca\", \"thal\", \"num\")\n",
    "                        )|> filter(ca != '?' , thal != \"?\") |>\n",
    "mutate(\"sex\" = as.factor(sex),\n",
    "       \"cp\" = as.factor(cp),\n",
    "       \"fbs\" = as.factor(fbs),\n",
    "       \"restecg\" = as.factor(restecg),\n",
    "       \"exang\" = as.factor(exang),\n",
    "      \"num\" = as.factor(num))"
   ]
  },
  {
   "cell_type": "markdown",
   "id": "e83cd9d1-1961-4005-a686-3dae4145064e",
   "metadata": {},
   "source": [
    "At this step, we also noticed that our dataset was still saved as a \".data\" file, rather than the commonly used \".csv\". Through this discovery, we converted our processed dataset into a csv file."
   ]
  },
  {
   "cell_type": "code",
   "execution_count": 10,
   "id": "66ac6a68-3efe-472b-9ab6-8a5860e11afc",
   "metadata": {},
   "outputs": [],
   "source": [
    "write.csv(heart_data, \"Data/data.csv\")"
   ]
  },
  {
   "cell_type": "markdown",
   "id": "b2a946ee-5b7c-4f4a-a28e-03febbeeeeb9",
   "metadata": {},
   "source": [
    "When we finally opened our newly created file, we realized that the first column was not something we wanted to keep. It contained the numbers that each row corresponded to, thus it was removed through \"select\""
   ]
  },
  {
   "cell_type": "code",
   "execution_count": 11,
   "id": "ef0493db-8c8a-4636-874c-3af0d6be8889",
   "metadata": {},
   "outputs": [
    {
     "name": "stderr",
     "output_type": "stream",
     "text": [
      "\u001b[1m\u001b[22mNew names:\n",
      "\u001b[36m•\u001b[39m `` -> `...1`\n",
      "\u001b[1mRows: \u001b[22m\u001b[34m297\u001b[39m \u001b[1mColumns: \u001b[22m\u001b[34m15\u001b[39m\n",
      "\u001b[36m──\u001b[39m \u001b[1mColumn specification\u001b[22m \u001b[36m────────────────────────────────────────────────────────\u001b[39m\n",
      "\u001b[1mDelimiter:\u001b[22m \",\"\n",
      "\u001b[32mdbl\u001b[39m (15): ...1, age, sex, cp, trestbps, chol, fbs, restecg, thalach, exang, ...\n",
      "\n",
      "\u001b[36mℹ\u001b[39m Use `spec()` to retrieve the full column specification for this data.\n",
      "\u001b[36mℹ\u001b[39m Specify the column types or set `show_col_types = FALSE` to quiet this message.\n"
     ]
    }
   ],
   "source": [
    "bob <- read_csv(\"Data/data.csv\")|>\n",
    "        select(age:num)"
   ]
  },
  {
   "cell_type": "markdown",
   "id": "e59156d5-363c-4bec-a99a-a272bb10c313",
   "metadata": {},
   "source": [
    "After our preliminary data processing, we were now ready to create summaries for our data. Many of the variables were irrelevent for our research, so we excluded them in our summarization tibble. As a group, we believed it was important to find the average age, resting blood pressure, serum colestoral levels, and maximum heart rate achieved. Aside from these variables, we also wanted to know how much data we had, thus we included the total observation count. "
   ]
  },
  {
   "cell_type": "code",
   "execution_count": 12,
   "id": "0ec39364-e386-4794-845e-8d6d365dda68",
   "metadata": {},
   "outputs": [
    {
     "data": {
      "text/html": [
       "<table class=\"dataframe\">\n",
       "<caption>A tibble: 1 × 5</caption>\n",
       "<thead>\n",
       "\t<tr><th scope=col>age</th><th scope=col>trestbps</th><th scope=col>chol</th><th scope=col>thalach</th><th scope=col>Observation Count</th></tr>\n",
       "\t<tr><th scope=col>&lt;dbl&gt;</th><th scope=col>&lt;dbl&gt;</th><th scope=col>&lt;dbl&gt;</th><th scope=col>&lt;dbl&gt;</th><th scope=col>&lt;int&gt;</th></tr>\n",
       "</thead>\n",
       "<tbody>\n",
       "\t<tr><td>54.54209</td><td>131.6936</td><td>247.3502</td><td>149.5993</td><td>297</td></tr>\n",
       "</tbody>\n",
       "</table>\n"
      ],
      "text/latex": [
       "A tibble: 1 × 5\n",
       "\\begin{tabular}{lllll}\n",
       " age & trestbps & chol & thalach & Observation Count\\\\\n",
       " <dbl> & <dbl> & <dbl> & <dbl> & <int>\\\\\n",
       "\\hline\n",
       "\t 54.54209 & 131.6936 & 247.3502 & 149.5993 & 297\\\\\n",
       "\\end{tabular}\n"
      ],
      "text/markdown": [
       "\n",
       "A tibble: 1 × 5\n",
       "\n",
       "| age &lt;dbl&gt; | trestbps &lt;dbl&gt; | chol &lt;dbl&gt; | thalach &lt;dbl&gt; | Observation Count &lt;int&gt; |\n",
       "|---|---|---|---|---|\n",
       "| 54.54209 | 131.6936 | 247.3502 | 149.5993 | 297 |\n",
       "\n"
      ],
      "text/plain": [
       "  age      trestbps chol     thalach  Observation Count\n",
       "1 54.54209 131.6936 247.3502 149.5993 297              "
      ]
     },
     "metadata": {},
     "output_type": "display_data"
    }
   ],
   "source": [
    "heart_data_mean <-bob |>\n",
    "map_df(mean)|>\n",
    "mutate(\"Observation Count\" = nrow(bob)) |>\n",
    "select(age,trestbps,chol,thalach,\"Observation Count\")\n",
    "\n",
    "#The actual table\n",
    "heart_data_mean\n"
   ]
  },
  {
   "cell_type": "code",
   "execution_count": null,
   "id": "ebc0863d-bf59-41ad-a395-5b3b0eaaf2c7",
   "metadata": {},
   "outputs": [],
   "source": []
  }
 ],
 "metadata": {
  "kernelspec": {
   "display_name": "R",
   "language": "R",
   "name": "ir"
  },
  "language_info": {
   "codemirror_mode": "r",
   "file_extension": ".r",
   "mimetype": "text/x-r-source",
   "name": "R",
   "pygments_lexer": "r",
   "version": "4.3.1"
  }
 },
 "nbformat": 4,
 "nbformat_minor": 5
}
