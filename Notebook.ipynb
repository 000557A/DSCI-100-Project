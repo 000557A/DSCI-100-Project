{
 "cells": [
  {
   "cell_type": "markdown",
   "id": "043f5c0c-3cbf-4cbc-84ba-c8c77eebefbb",
   "metadata": {},
   "source": [
    "**Title**\n"
   ]
  },
  {
   "cell_type": "markdown",
   "id": "c3be310c-127f-47a7-93d6-50fd5a222022",
   "metadata": {},
   "source": [
    "**Introduction:**\n",
    "\n",
    "Heart disease is a common cause of death in the United States. For every 5 people, 1 will suffer from this condition. Due to the ever-prevalent nature of this disease, we believe it is important to know where one currently stands at the moment. With this project, we aim to predict and classify the severity of heart conditions based upon several variables. With data provided from _____, we are able to train a model based upon 297 rows of data. \n",
    "\n"
   ]
  },
  {
   "cell_type": "markdown",
   "id": "9ce7205f-3809-4af2-8da6-2ce440e7b938",
   "metadata": {},
   "source": [
    "**Preliminary exploratory data analysis**"
   ]
  },
  {
   "cell_type": "code",
   "execution_count": 12,
   "id": "b4f7ff80-7131-4006-94d6-78a20c2bc98b",
   "metadata": {},
   "outputs": [
    {
     "name": "stderr",
     "output_type": "stream",
     "text": [
      "\u001b[1mRows: \u001b[22m\u001b[34m303\u001b[39m \u001b[1mColumns: \u001b[22m\u001b[34m14\u001b[39m\n",
      "\u001b[36m──\u001b[39m \u001b[1mColumn specification\u001b[22m \u001b[36m────────────────────────────────────────────────────────\u001b[39m\n",
      "\u001b[1mDelimiter:\u001b[22m \",\"\n",
      "\u001b[31mchr\u001b[39m  (2): ca, thal\n",
      "\u001b[32mdbl\u001b[39m (12): age, sex, cp, trestbps, chol, fbs, restecg, thalach, exang, oldpea...\n",
      "\n",
      "\u001b[36mℹ\u001b[39m Use `spec()` to retrieve the full column specification for this data.\n",
      "\u001b[36mℹ\u001b[39m Specify the column types or set `show_col_types = FALSE` to quiet this message.\n",
      "\u001b[1m\u001b[22mNew names:\n",
      "\u001b[36m•\u001b[39m `` -> `...1`\n",
      "\u001b[1mRows: \u001b[22m\u001b[34m297\u001b[39m \u001b[1mColumns: \u001b[22m\u001b[34m15\u001b[39m\n",
      "\u001b[36m──\u001b[39m \u001b[1mColumn specification\u001b[22m \u001b[36m────────────────────────────────────────────────────────\u001b[39m\n",
      "\u001b[1mDelimiter:\u001b[22m \",\"\n",
      "\u001b[32mdbl\u001b[39m (15): ...1, age, sex, cp, trestbps, chol, fbs, restecg, thalach, exang, ...\n",
      "\n",
      "\u001b[36mℹ\u001b[39m Use `spec()` to retrieve the full column specification for this data.\n",
      "\u001b[36mℹ\u001b[39m Specify the column types or set `show_col_types = FALSE` to quiet this message.\n"
     ]
    },
    {
     "data": {
      "text/html": [
       "<table class=\"dataframe\">\n",
       "<caption>A tibble: 1 × 14</caption>\n",
       "<thead>\n",
       "\t<tr><th scope=col>age</th><th scope=col>sex</th><th scope=col>cp</th><th scope=col>trestbps</th><th scope=col>chol</th><th scope=col>fbs</th><th scope=col>restecg</th><th scope=col>thalach</th><th scope=col>exang</th><th scope=col>oldpeak</th><th scope=col>slope</th><th scope=col>ca</th><th scope=col>thal</th><th scope=col>num</th></tr>\n",
       "\t<tr><th scope=col>&lt;dbl&gt;</th><th scope=col>&lt;dbl&gt;</th><th scope=col>&lt;dbl&gt;</th><th scope=col>&lt;dbl&gt;</th><th scope=col>&lt;dbl&gt;</th><th scope=col>&lt;dbl&gt;</th><th scope=col>&lt;dbl&gt;</th><th scope=col>&lt;dbl&gt;</th><th scope=col>&lt;dbl&gt;</th><th scope=col>&lt;dbl&gt;</th><th scope=col>&lt;dbl&gt;</th><th scope=col>&lt;dbl&gt;</th><th scope=col>&lt;dbl&gt;</th><th scope=col>&lt;dbl&gt;</th></tr>\n",
       "</thead>\n",
       "<tbody>\n",
       "\t<tr><td>54.54209</td><td>0.6767677</td><td>3.158249</td><td>131.6936</td><td>247.3502</td><td>0.1447811</td><td>0.996633</td><td>149.5993</td><td>0.3265993</td><td>1.055556</td><td>1.602694</td><td>0.6767677</td><td>4.73064</td><td>0.9461279</td></tr>\n",
       "</tbody>\n",
       "</table>\n"
      ],
      "text/latex": [
       "A tibble: 1 × 14\n",
       "\\begin{tabular}{llllllllllllll}\n",
       " age & sex & cp & trestbps & chol & fbs & restecg & thalach & exang & oldpeak & slope & ca & thal & num\\\\\n",
       " <dbl> & <dbl> & <dbl> & <dbl> & <dbl> & <dbl> & <dbl> & <dbl> & <dbl> & <dbl> & <dbl> & <dbl> & <dbl> & <dbl>\\\\\n",
       "\\hline\n",
       "\t 54.54209 & 0.6767677 & 3.158249 & 131.6936 & 247.3502 & 0.1447811 & 0.996633 & 149.5993 & 0.3265993 & 1.055556 & 1.602694 & 0.6767677 & 4.73064 & 0.9461279\\\\\n",
       "\\end{tabular}\n"
      ],
      "text/markdown": [
       "\n",
       "A tibble: 1 × 14\n",
       "\n",
       "| age &lt;dbl&gt; | sex &lt;dbl&gt; | cp &lt;dbl&gt; | trestbps &lt;dbl&gt; | chol &lt;dbl&gt; | fbs &lt;dbl&gt; | restecg &lt;dbl&gt; | thalach &lt;dbl&gt; | exang &lt;dbl&gt; | oldpeak &lt;dbl&gt; | slope &lt;dbl&gt; | ca &lt;dbl&gt; | thal &lt;dbl&gt; | num &lt;dbl&gt; |\n",
       "|---|---|---|---|---|---|---|---|---|---|---|---|---|---|\n",
       "| 54.54209 | 0.6767677 | 3.158249 | 131.6936 | 247.3502 | 0.1447811 | 0.996633 | 149.5993 | 0.3265993 | 1.055556 | 1.602694 | 0.6767677 | 4.73064 | 0.9461279 |\n",
       "\n"
      ],
      "text/plain": [
       "  age      sex       cp       trestbps chol     fbs       restecg  thalach \n",
       "1 54.54209 0.6767677 3.158249 131.6936 247.3502 0.1447811 0.996633 149.5993\n",
       "  exang     oldpeak  slope    ca        thal    num      \n",
       "1 0.3265993 1.055556 1.602694 0.6767677 4.73064 0.9461279"
      ]
     },
     "metadata": {},
     "output_type": "display_data"
    }
   ],
   "source": [
    "library(dplyr, tidyr, purrr) #Loading all libraries \n",
    "library(forcats)\n",
    "library(readr)\n",
    "library(ggplot2)\n",
    "library(cowplot)\n",
    "library(repr)\n",
    "\n",
    "#Accessing the file from the webw\n",
    "download.file(\"https://raw.githubusercontent.com/000557A/WebDataSet/main/processed.cleveland.data\", \"Data/unprocessed.cleveland.data\")\n",
    "\n",
    "#Reading the data, and excluding lines with \"?\"\n",
    "heart_data <- read_delim(\"Data/unprocessed.cleveland.data\", delim = \",\",\n",
    "          col_names = c(\"age\", \"sex\", \"cp\", \"trestbps\", \"chol\", \"fbs\", \"restecg\", \"thalach\", \"exang\", \"oldpeak\" , \"slope\", \"ca\", \"thal\", \"num\")\n",
    "                        )|> filter(ca != '?' , thal != \"?\")\n",
    "\n",
    "#Write the processed data frame in a csv\n",
    "write.csv(heart_data, \"Data/data.csv\")\n",
    "\n",
    "# Read the csv, excluding the first \"number\" row\n",
    "bob <- read_csv(\"Data/data.csv\")|>\n",
    "        select(age:num)\n",
    "\n",
    "#Calculating the average value from our dataset\n",
    "heart_data_mean <- map_df(bob, mean)\n",
    "\n",
    "#The actual table\n",
    "heart_data_mean\n",
    "\n"
   ]
  },
  {
   "cell_type": "markdown",
   "id": "a54351a2-03e3-4057-9d85-c311d2f76686",
   "metadata": {},
   "source": [
    "Using only training data, visualize the data with at least one plot relevant to the analysis you plan to do (this is exploratory data analysis). An example of a useful visualization could be one that compares the distributions of each of the predictor variables you plan to use in your analysis."
   ]
  },
  {
   "cell_type": "markdown",
   "id": "21fd43d3-9a34-49b6-a65c-5a215aa797c7",
   "metadata": {},
   "source": [
    "**Methods:**"
   ]
  },
  {
   "cell_type": "markdown",
   "id": "94e069e9-bf7c-4705-ac40-003d281d46b9",
   "metadata": {},
   "source": [
    "\n",
    "- Explain how you will conduct either your data analysis and which variables/columns you will use. Note - you do not need to use all variables/columns that exist in the raw data set. In fact, that's often not a good idea. For each variable think: is this a useful variable for prediction?\n",
    "- Describe at least one way that you will visualize the results\n"
   ]
  },
  {
   "cell_type": "markdown",
   "id": "a53fa6f4-d2ab-4156-933c-6464d0f8ef10",
   "metadata": {},
   "source": [
    "**Expected outcomes and significance:**"
   ]
  },
  {
   "cell_type": "markdown",
   "id": "a5cf9e1d-c8d4-4c68-9ca5-0cd1f6619d6d",
   "metadata": {},
   "source": [
    "\n",
    "- What do you expect to find?\n",
    "- What impact could such findings have?\n",
    "- What future questions could this lead to?\n"
   ]
  },
  {
   "cell_type": "markdown",
   "id": "5e93b979-7ad5-4c41-bcf5-291aa183380d",
   "metadata": {},
   "source": [
    "\n",
    "-1.Simply, We expect to get the likelihood of a person having heart disease.\n",
    "-In more detail,\n",
    "-a.Spotting Patterns: Finding clues that help tell if someone might get heart disease.\n",
    "-b.Understanding Risk: Seeing who is more likely to have heart problems.\n",
    "-c.Better Treatments: Suggestions for more personalized care based on what worked for others.\n",
    "-d.Predicting Health: Guessing how someone's heart health might change, to help stop problems before they start.\n",
    "-f.Quick Health Checks: Using KNN in devices for fast health updates, helping keep an eye on heart health in real time.\n",
    "-2.a.Find Disease Early: It helps doctors figure out if someone might have heart disease by looking at health data and comparing it to others.\n",
    "-b.Understand Risk Better: It can show which patients are more at risk and need quick attention.\n",
    "-c.Make Treatments Better: Doctors can use the information to give patients treatments that work best for them.\n",
    "-d.Predict Future Health: It can guess how a patient's heart disease might get worse or better, helping to prevent serious problems.\n",
    "-e.Plan Healthcare Better: It helps health leaders decide where to focus their efforts and resources to help the most people.\n",
    "-f.Learn New Things: Researchers can find new patterns and learn more about heart disease, leading to new discoveries.\n",
    "-g.Quick Help in Emergencies: It can be used in devices to check patients' health in real-time, which is great for emergency help or keeping an eye on long-term health.\n",
    "-3.Using KNN for heart disease could lead us to ask:Using KNN for heart disease could lead us to ask:\n",
    "-a.What else affects heart disease? If KNN finds patterns, we might wonder what other factors could be important.\n",
    "-b.Can we predict better? We might look for ways to make our predictions more accurate.\n",
    "-c.Do different treatments work differently on people? If KNN helps pick treatments, we'd want to know more about which treatments work best for whom.\n",
    "-d.Can this method help with other diseases? If it works for heart disease, maybe it can help predict other illnesses too.\n",
    "-e.How will this change healthcare? We'd consider how better predictions can save money or change the healthcare we need.\n"
   ]
  },
  {
 
 "metadata": {
  "kernelspec": {
   "display_name": "R",
   "language": "R",
   "name": "ir"
  },
  "language_info": {
   "codemirror_mode": "r",
   "file_extension": ".r",
   "mimetype": "text/x-r-source",
   "name": "R",
   "pygments_lexer": "r",
   "version": "4.3.1"
  }
 },
 "nbformat": 4,
 "nbformat_minor": 5
}
