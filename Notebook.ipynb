{
 "cells": [
  {
   "cell_type": "markdown",
   "id": "043f5c0c-3cbf-4cbc-84ba-c8c77eebefbb",
   "metadata": {},
   "source": [
    "**Title**\n"
   ]
  },
  {
   "cell_type": "markdown",
   "id": "c3be310c-127f-47a7-93d6-50fd5a222022",
   "metadata": {},
   "source": [
    "**Introduction:**\n",
    "\n",
    "- Provide some relevant background information on the topic so that someone unfamiliar with it will be prepared to understand the rest of your proposal\n",
    "- Clearly state the question you will try to answer with your project\n",
    "- Identify and describe the dataset that will be used to answer the question\n",
    "\n"
   ]
  },
  {
   "cell_type": "markdown",
   "id": "9ce7205f-3809-4af2-8da6-2ce440e7b938",
   "metadata": {},
   "source": [
    "**Preliminary exploratory data analysis**"
   ]
  },
  {
   "cell_type": "markdown",
   "id": "77990e4b-02fb-45de-8d02-15188a7cddf4",
   "metadata": {},
   "source": [
    "\n",
    "- Demonstrate that the dataset can be read from the web into R \n",
    "- Clean and wrangle your data into a tidy format\n",
    "- Using only training data, summarize the data in at least one table (this is exploratory data analysis). An example of a useful table could be one that reports the number of observations in each class, the means of the predictor variables you plan to use in your analysis and how many rows have missing data.\n",
    "- \n",
    "- Using only training data, visualize the data with at least one plot relevant to the analysis you plan to do (this is exploratory data analysis). An example of a useful visualization could be one that compares the distributions of each of the predictor variables you plan to use in your analysis.\n"
   ]
  },
  {
   "cell_type": "markdown",
   "id": "21fd43d3-9a34-49b6-a65c-5a215aa797c7",
   "metadata": {},
   "source": [
    "**Methods:**"
   ]
  },
  {
   "cell_type": "markdown",
   "id": "94e069e9-bf7c-4705-ac40-003d281d46b9",
   "metadata": {},
   "source": [
    "\n",
    "- Explain how you will conduct either your data analysis and which variables/columns you will use. Note - you do not need to use all variables/columns that exist in the raw data set. In fact, that's often not a good idea. For each variable think: is this a useful variable for prediction?\n",
    "- Describe at least one way that you will visualize the results\n"
   ]
  },
  {
   "cell_type": "markdown",
   "id": "a53fa6f4-d2ab-4156-933c-6464d0f8ef10",
   "metadata": {},
   "source": [
    "**Expected outcomes and significance:**"
   ]
  },
  {
   "cell_type": "markdown",
   "id": "a5cf9e1d-c8d4-4c68-9ca5-0cd1f6619d6d",
   "metadata": {},
   "source": [
    "\n",
    "- What do you expect to find?\n",
    "- What impact could such findings have?\n",
    "- What future questions could this lead to?\n"
   ]
  },
  {
   "cell_type": "code",
   "execution_count": null,
   "id": "5e93b979-7ad5-4c41-bcf5-291aa183380d",
   "metadata": {},
   "outputs": [],
   "source": []
  }
 ],
 "metadata": {
  "kernelspec": {
   "display_name": "R",
   "language": "R",
   "name": "ir"
  },
  "language_info": {
   "codemirror_mode": "r",
   "file_extension": ".r",
   "mimetype": "text/x-r-source",
   "name": "R",
   "pygments_lexer": "r",
   "version": "4.3.1"
  }
 },
 "nbformat": 4,
 "nbformat_minor": 5
}
